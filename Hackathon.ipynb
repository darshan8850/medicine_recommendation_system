{
  "cells": [
    {
      "cell_type": "markdown",
      "id": "fb950256",
      "metadata": {
        "papermill": {
          "duration": 0.011806,
          "end_time": "2022-05-26T22:27:56.853271",
          "exception": false,
          "start_time": "2022-05-26T22:27:56.841465",
          "status": "completed"
        },
        "tags": [],
        "id": "fb950256"
      },
      "source": [
        "### Importing the Libraries"
      ]
    },
    {
      "cell_type": "code",
      "execution_count": 122,
      "id": "37d6d61a",
      "metadata": {
        "execution": {
          "iopub.execute_input": "2022-05-26T22:27:56.876674Z",
          "iopub.status.busy": "2022-05-26T22:27:56.875634Z",
          "iopub.status.idle": "2022-05-26T22:27:58.070005Z",
          "shell.execute_reply": "2022-05-26T22:27:58.068942Z"
        },
        "papermill": {
          "duration": 1.209318,
          "end_time": "2022-05-26T22:27:58.072963",
          "exception": false,
          "start_time": "2022-05-26T22:27:56.863645",
          "status": "completed"
        },
        "tags": [],
        "id": "37d6d61a",
        "colab": {
          "base_uri": "https://localhost:8080/"
        },
        "outputId": "22bcae0d-1390-4af2-d3b4-c28f259bdfd8"
      },
      "outputs": [
        {
          "output_type": "stream",
          "name": "stderr",
          "text": [
            "[nltk_data] Downloading package punkt to /root/nltk_data...\n",
            "[nltk_data]   Package punkt is already up-to-date!\n",
            "[nltk_data] Downloading package stopwords to /root/nltk_data...\n",
            "[nltk_data]   Package stopwords is already up-to-date!\n"
          ]
        }
      ],
      "source": [
        "import numpy as np\n",
        "import pandas as pd\n",
        "import string\n",
        "\n",
        "import nltk\n",
        "nltk.download('punkt')\n",
        "nltk.download('stopwords')\n",
        "from nltk.corpus import stopwords\n",
        "from nltk.tokenize import word_tokenize\n",
        "\n",
        "import matplotlib.pyplot as plt\n",
        "import seaborn as sns\n",
        "\n",
        "import ipywidgets\n",
        "from ipywidgets import interact\n",
        "\n",
        "plt.rcParams['figure.figsize'] = (14, 8)\n",
        "plt.style.use('fivethirtyeight')\n",
        "\n",
        "import warnings\n",
        "warnings.filterwarnings(\"ignore\")"
      ]
    },
    {
      "cell_type": "markdown",
      "id": "7ea9964e",
      "metadata": {
        "papermill": {
          "duration": 0.010062,
          "end_time": "2022-05-26T22:27:58.093663",
          "exception": false,
          "start_time": "2022-05-26T22:27:58.083601",
          "status": "completed"
        },
        "tags": [],
        "id": "7ea9964e"
      },
      "source": [
        "### Reading the Data"
      ]
    },
    {
      "cell_type": "code",
      "execution_count": 123,
      "id": "08acf08a",
      "metadata": {
        "execution": {
          "iopub.execute_input": "2022-05-26T22:27:58.115793Z",
          "iopub.status.busy": "2022-05-26T22:27:58.115403Z",
          "iopub.status.idle": "2022-05-26T22:27:59.979613Z",
          "shell.execute_reply": "2022-05-26T22:27:59.978440Z"
        },
        "papermill": {
          "duration": 1.878458,
          "end_time": "2022-05-26T22:27:59.982448",
          "exception": false,
          "start_time": "2022-05-26T22:27:58.103990",
          "status": "completed"
        },
        "tags": [],
        "id": "08acf08a",
        "colab": {
          "base_uri": "https://localhost:8080/"
        },
        "outputId": "77185674-cce9-4a53-98c7-6fe253a8751f"
      },
      "outputs": [
        {
          "output_type": "stream",
          "name": "stdout",
          "text": [
            "The Shape of the Dataset : (53766, 7)\n"
          ]
        }
      ],
      "source": [
        "# reading the Dataset\n",
        "data = pd.read_csv('/content/drugsComTest_raw.csv')\n",
        "\n",
        "# lets print the dimension of the dataset\n",
        "print(\"The Shape of the Dataset :\", data.shape)"
      ]
    },
    {
      "cell_type": "code",
      "execution_count": 124,
      "id": "a45bed82",
      "metadata": {
        "execution": {
          "iopub.execute_input": "2022-05-26T22:28:00.005694Z",
          "iopub.status.busy": "2022-05-26T22:28:00.005271Z",
          "iopub.status.idle": "2022-05-26T22:28:00.030581Z",
          "shell.execute_reply": "2022-05-26T22:28:00.029476Z"
        },
        "papermill": {
          "duration": 0.040153,
          "end_time": "2022-05-26T22:28:00.032881",
          "exception": false,
          "start_time": "2022-05-26T22:27:59.992728",
          "status": "completed"
        },
        "tags": [],
        "id": "a45bed82",
        "colab": {
          "base_uri": "https://localhost:8080/",
          "height": 204
        },
        "outputId": "d576dd4d-e6e4-4b94-91c2-efad4a98f94f"
      },
      "outputs": [
        {
          "output_type": "execute_result",
          "data": {
            "text/plain": [
              "   uniqueID         drugName                     condition  \\\n",
              "0    163740      Mirtazapine                    Depression   \n",
              "1    206473       Mesalamine  Crohn's Disease, Maintenance   \n",
              "2    159672          Bactrim       Urinary Tract Infection   \n",
              "3     39293         Contrave                   Weight Loss   \n",
              "4     97768  Cyclafem 1 / 35                 Birth Control   \n",
              "\n",
              "                                              review  rating       date  \\\n",
              "0  \"I&#039;ve tried a few antidepressants over th...      10  28-Feb-12   \n",
              "1  \"My son has Crohn&#039;s disease and has done ...       8  17-May-09   \n",
              "2                      \"Quick reduction of symptoms\"       9  29-Sep-17   \n",
              "3  \"Contrave combines drugs that were used for al...       9   5-Mar-17   \n",
              "4  \"I have been on this birth control for one cyc...       9  22-Oct-15   \n",
              "\n",
              "   usefulCount  \n",
              "0           22  \n",
              "1           17  \n",
              "2            3  \n",
              "3           35  \n",
              "4            4  "
            ],
            "text/html": [
              "\n",
              "  <div id=\"df-914d36a8-1eb6-450c-a57a-a2c61642ad06\">\n",
              "    <div class=\"colab-df-container\">\n",
              "      <div>\n",
              "<style scoped>\n",
              "    .dataframe tbody tr th:only-of-type {\n",
              "        vertical-align: middle;\n",
              "    }\n",
              "\n",
              "    .dataframe tbody tr th {\n",
              "        vertical-align: top;\n",
              "    }\n",
              "\n",
              "    .dataframe thead th {\n",
              "        text-align: right;\n",
              "    }\n",
              "</style>\n",
              "<table border=\"1\" class=\"dataframe\">\n",
              "  <thead>\n",
              "    <tr style=\"text-align: right;\">\n",
              "      <th></th>\n",
              "      <th>uniqueID</th>\n",
              "      <th>drugName</th>\n",
              "      <th>condition</th>\n",
              "      <th>review</th>\n",
              "      <th>rating</th>\n",
              "      <th>date</th>\n",
              "      <th>usefulCount</th>\n",
              "    </tr>\n",
              "  </thead>\n",
              "  <tbody>\n",
              "    <tr>\n",
              "      <th>0</th>\n",
              "      <td>163740</td>\n",
              "      <td>Mirtazapine</td>\n",
              "      <td>Depression</td>\n",
              "      <td>\"I&amp;#039;ve tried a few antidepressants over th...</td>\n",
              "      <td>10</td>\n",
              "      <td>28-Feb-12</td>\n",
              "      <td>22</td>\n",
              "    </tr>\n",
              "    <tr>\n",
              "      <th>1</th>\n",
              "      <td>206473</td>\n",
              "      <td>Mesalamine</td>\n",
              "      <td>Crohn's Disease, Maintenance</td>\n",
              "      <td>\"My son has Crohn&amp;#039;s disease and has done ...</td>\n",
              "      <td>8</td>\n",
              "      <td>17-May-09</td>\n",
              "      <td>17</td>\n",
              "    </tr>\n",
              "    <tr>\n",
              "      <th>2</th>\n",
              "      <td>159672</td>\n",
              "      <td>Bactrim</td>\n",
              "      <td>Urinary Tract Infection</td>\n",
              "      <td>\"Quick reduction of symptoms\"</td>\n",
              "      <td>9</td>\n",
              "      <td>29-Sep-17</td>\n",
              "      <td>3</td>\n",
              "    </tr>\n",
              "    <tr>\n",
              "      <th>3</th>\n",
              "      <td>39293</td>\n",
              "      <td>Contrave</td>\n",
              "      <td>Weight Loss</td>\n",
              "      <td>\"Contrave combines drugs that were used for al...</td>\n",
              "      <td>9</td>\n",
              "      <td>5-Mar-17</td>\n",
              "      <td>35</td>\n",
              "    </tr>\n",
              "    <tr>\n",
              "      <th>4</th>\n",
              "      <td>97768</td>\n",
              "      <td>Cyclafem 1 / 35</td>\n",
              "      <td>Birth Control</td>\n",
              "      <td>\"I have been on this birth control for one cyc...</td>\n",
              "      <td>9</td>\n",
              "      <td>22-Oct-15</td>\n",
              "      <td>4</td>\n",
              "    </tr>\n",
              "  </tbody>\n",
              "</table>\n",
              "</div>\n",
              "      <button class=\"colab-df-convert\" onclick=\"convertToInteractive('df-914d36a8-1eb6-450c-a57a-a2c61642ad06')\"\n",
              "              title=\"Convert this dataframe to an interactive table.\"\n",
              "              style=\"display:none;\">\n",
              "        \n",
              "  <svg xmlns=\"http://www.w3.org/2000/svg\" height=\"24px\"viewBox=\"0 0 24 24\"\n",
              "       width=\"24px\">\n",
              "    <path d=\"M0 0h24v24H0V0z\" fill=\"none\"/>\n",
              "    <path d=\"M18.56 5.44l.94 2.06.94-2.06 2.06-.94-2.06-.94-.94-2.06-.94 2.06-2.06.94zm-11 1L8.5 8.5l.94-2.06 2.06-.94-2.06-.94L8.5 2.5l-.94 2.06-2.06.94zm10 10l.94 2.06.94-2.06 2.06-.94-2.06-.94-.94-2.06-.94 2.06-2.06.94z\"/><path d=\"M17.41 7.96l-1.37-1.37c-.4-.4-.92-.59-1.43-.59-.52 0-1.04.2-1.43.59L10.3 9.45l-7.72 7.72c-.78.78-.78 2.05 0 2.83L4 21.41c.39.39.9.59 1.41.59.51 0 1.02-.2 1.41-.59l7.78-7.78 2.81-2.81c.8-.78.8-2.07 0-2.86zM5.41 20L4 18.59l7.72-7.72 1.47 1.35L5.41 20z\"/>\n",
              "  </svg>\n",
              "      </button>\n",
              "      \n",
              "  <style>\n",
              "    .colab-df-container {\n",
              "      display:flex;\n",
              "      flex-wrap:wrap;\n",
              "      gap: 12px;\n",
              "    }\n",
              "\n",
              "    .colab-df-convert {\n",
              "      background-color: #E8F0FE;\n",
              "      border: none;\n",
              "      border-radius: 50%;\n",
              "      cursor: pointer;\n",
              "      display: none;\n",
              "      fill: #1967D2;\n",
              "      height: 32px;\n",
              "      padding: 0 0 0 0;\n",
              "      width: 32px;\n",
              "    }\n",
              "\n",
              "    .colab-df-convert:hover {\n",
              "      background-color: #E2EBFA;\n",
              "      box-shadow: 0px 1px 2px rgba(60, 64, 67, 0.3), 0px 1px 3px 1px rgba(60, 64, 67, 0.15);\n",
              "      fill: #174EA6;\n",
              "    }\n",
              "\n",
              "    [theme=dark] .colab-df-convert {\n",
              "      background-color: #3B4455;\n",
              "      fill: #D2E3FC;\n",
              "    }\n",
              "\n",
              "    [theme=dark] .colab-df-convert:hover {\n",
              "      background-color: #434B5C;\n",
              "      box-shadow: 0px 1px 3px 1px rgba(0, 0, 0, 0.15);\n",
              "      filter: drop-shadow(0px 1px 2px rgba(0, 0, 0, 0.3));\n",
              "      fill: #FFFFFF;\n",
              "    }\n",
              "  </style>\n",
              "\n",
              "      <script>\n",
              "        const buttonEl =\n",
              "          document.querySelector('#df-914d36a8-1eb6-450c-a57a-a2c61642ad06 button.colab-df-convert');\n",
              "        buttonEl.style.display =\n",
              "          google.colab.kernel.accessAllowed ? 'block' : 'none';\n",
              "\n",
              "        async function convertToInteractive(key) {\n",
              "          const element = document.querySelector('#df-914d36a8-1eb6-450c-a57a-a2c61642ad06');\n",
              "          const dataTable =\n",
              "            await google.colab.kernel.invokeFunction('convertToInteractive',\n",
              "                                                     [key], {});\n",
              "          if (!dataTable) return;\n",
              "\n",
              "          const docLinkHtml = 'Like what you see? Visit the ' +\n",
              "            '<a target=\"_blank\" href=https://colab.research.google.com/notebooks/data_table.ipynb>data table notebook</a>'\n",
              "            + ' to learn more about interactive tables.';\n",
              "          element.innerHTML = '';\n",
              "          dataTable['output_type'] = 'display_data';\n",
              "          await google.colab.output.renderOutput(dataTable, element);\n",
              "          const docLink = document.createElement('div');\n",
              "          docLink.innerHTML = docLinkHtml;\n",
              "          element.appendChild(docLink);\n",
              "        }\n",
              "      </script>\n",
              "    </div>\n",
              "  </div>\n",
              "  "
            ]
          },
          "metadata": {},
          "execution_count": 124
        }
      ],
      "source": [
        "# lets check the head of the dataset\n",
        "data.head()"
      ]
    },
    {
      "cell_type": "code",
      "source": [
        "# lets check the tail of the dataset\n",
        "data.tail()"
      ],
      "metadata": {
        "colab": {
          "base_uri": "https://localhost:8080/",
          "height": 204
        },
        "id": "CChBd4FJZAED",
        "outputId": "afafe42f-8328-41ac-874c-5aa9835c00e5"
      },
      "id": "CChBd4FJZAED",
      "execution_count": 125,
      "outputs": [
        {
          "output_type": "execute_result",
          "data": {
            "text/plain": [
              "       uniqueID        drugName                  condition  \\\n",
              "53761    159999       Tamoxifen  Breast Cancer, Prevention   \n",
              "53762    140714    Escitalopram                    Anxiety   \n",
              "53763    130945  Levonorgestrel              Birth Control   \n",
              "53764     47656      Tapentadol                       Pain   \n",
              "53765    113712       Arthrotec                   Sciatica   \n",
              "\n",
              "                                                  review  rating       date  \\\n",
              "53761  \"I have taken Tamoxifen for 5 years. Side effe...      10  13-Sep-14   \n",
              "53762  \"I&#039;ve been taking Lexapro (escitaploprgra...       9   8-Oct-16   \n",
              "53763  \"I&#039;m married, 34 years old and I have no ...       8  15-Nov-10   \n",
              "53764  \"I was prescribed Nucynta for severe neck/shou...       1  28-Nov-11   \n",
              "53765                                      \"It works!!!\"       9  13-Sep-09   \n",
              "\n",
              "       usefulCount  \n",
              "53761           43  \n",
              "53762           11  \n",
              "53763            7  \n",
              "53764           20  \n",
              "53765           46  "
            ],
            "text/html": [
              "\n",
              "  <div id=\"df-80d70db1-4042-46c2-a99e-59490e79569a\">\n",
              "    <div class=\"colab-df-container\">\n",
              "      <div>\n",
              "<style scoped>\n",
              "    .dataframe tbody tr th:only-of-type {\n",
              "        vertical-align: middle;\n",
              "    }\n",
              "\n",
              "    .dataframe tbody tr th {\n",
              "        vertical-align: top;\n",
              "    }\n",
              "\n",
              "    .dataframe thead th {\n",
              "        text-align: right;\n",
              "    }\n",
              "</style>\n",
              "<table border=\"1\" class=\"dataframe\">\n",
              "  <thead>\n",
              "    <tr style=\"text-align: right;\">\n",
              "      <th></th>\n",
              "      <th>uniqueID</th>\n",
              "      <th>drugName</th>\n",
              "      <th>condition</th>\n",
              "      <th>review</th>\n",
              "      <th>rating</th>\n",
              "      <th>date</th>\n",
              "      <th>usefulCount</th>\n",
              "    </tr>\n",
              "  </thead>\n",
              "  <tbody>\n",
              "    <tr>\n",
              "      <th>53761</th>\n",
              "      <td>159999</td>\n",
              "      <td>Tamoxifen</td>\n",
              "      <td>Breast Cancer, Prevention</td>\n",
              "      <td>\"I have taken Tamoxifen for 5 years. Side effe...</td>\n",
              "      <td>10</td>\n",
              "      <td>13-Sep-14</td>\n",
              "      <td>43</td>\n",
              "    </tr>\n",
              "    <tr>\n",
              "      <th>53762</th>\n",
              "      <td>140714</td>\n",
              "      <td>Escitalopram</td>\n",
              "      <td>Anxiety</td>\n",
              "      <td>\"I&amp;#039;ve been taking Lexapro (escitaploprgra...</td>\n",
              "      <td>9</td>\n",
              "      <td>8-Oct-16</td>\n",
              "      <td>11</td>\n",
              "    </tr>\n",
              "    <tr>\n",
              "      <th>53763</th>\n",
              "      <td>130945</td>\n",
              "      <td>Levonorgestrel</td>\n",
              "      <td>Birth Control</td>\n",
              "      <td>\"I&amp;#039;m married, 34 years old and I have no ...</td>\n",
              "      <td>8</td>\n",
              "      <td>15-Nov-10</td>\n",
              "      <td>7</td>\n",
              "    </tr>\n",
              "    <tr>\n",
              "      <th>53764</th>\n",
              "      <td>47656</td>\n",
              "      <td>Tapentadol</td>\n",
              "      <td>Pain</td>\n",
              "      <td>\"I was prescribed Nucynta for severe neck/shou...</td>\n",
              "      <td>1</td>\n",
              "      <td>28-Nov-11</td>\n",
              "      <td>20</td>\n",
              "    </tr>\n",
              "    <tr>\n",
              "      <th>53765</th>\n",
              "      <td>113712</td>\n",
              "      <td>Arthrotec</td>\n",
              "      <td>Sciatica</td>\n",
              "      <td>\"It works!!!\"</td>\n",
              "      <td>9</td>\n",
              "      <td>13-Sep-09</td>\n",
              "      <td>46</td>\n",
              "    </tr>\n",
              "  </tbody>\n",
              "</table>\n",
              "</div>\n",
              "      <button class=\"colab-df-convert\" onclick=\"convertToInteractive('df-80d70db1-4042-46c2-a99e-59490e79569a')\"\n",
              "              title=\"Convert this dataframe to an interactive table.\"\n",
              "              style=\"display:none;\">\n",
              "        \n",
              "  <svg xmlns=\"http://www.w3.org/2000/svg\" height=\"24px\"viewBox=\"0 0 24 24\"\n",
              "       width=\"24px\">\n",
              "    <path d=\"M0 0h24v24H0V0z\" fill=\"none\"/>\n",
              "    <path d=\"M18.56 5.44l.94 2.06.94-2.06 2.06-.94-2.06-.94-.94-2.06-.94 2.06-2.06.94zm-11 1L8.5 8.5l.94-2.06 2.06-.94-2.06-.94L8.5 2.5l-.94 2.06-2.06.94zm10 10l.94 2.06.94-2.06 2.06-.94-2.06-.94-.94-2.06-.94 2.06-2.06.94z\"/><path d=\"M17.41 7.96l-1.37-1.37c-.4-.4-.92-.59-1.43-.59-.52 0-1.04.2-1.43.59L10.3 9.45l-7.72 7.72c-.78.78-.78 2.05 0 2.83L4 21.41c.39.39.9.59 1.41.59.51 0 1.02-.2 1.41-.59l7.78-7.78 2.81-2.81c.8-.78.8-2.07 0-2.86zM5.41 20L4 18.59l7.72-7.72 1.47 1.35L5.41 20z\"/>\n",
              "  </svg>\n",
              "      </button>\n",
              "      \n",
              "  <style>\n",
              "    .colab-df-container {\n",
              "      display:flex;\n",
              "      flex-wrap:wrap;\n",
              "      gap: 12px;\n",
              "    }\n",
              "\n",
              "    .colab-df-convert {\n",
              "      background-color: #E8F0FE;\n",
              "      border: none;\n",
              "      border-radius: 50%;\n",
              "      cursor: pointer;\n",
              "      display: none;\n",
              "      fill: #1967D2;\n",
              "      height: 32px;\n",
              "      padding: 0 0 0 0;\n",
              "      width: 32px;\n",
              "    }\n",
              "\n",
              "    .colab-df-convert:hover {\n",
              "      background-color: #E2EBFA;\n",
              "      box-shadow: 0px 1px 2px rgba(60, 64, 67, 0.3), 0px 1px 3px 1px rgba(60, 64, 67, 0.15);\n",
              "      fill: #174EA6;\n",
              "    }\n",
              "\n",
              "    [theme=dark] .colab-df-convert {\n",
              "      background-color: #3B4455;\n",
              "      fill: #D2E3FC;\n",
              "    }\n",
              "\n",
              "    [theme=dark] .colab-df-convert:hover {\n",
              "      background-color: #434B5C;\n",
              "      box-shadow: 0px 1px 3px 1px rgba(0, 0, 0, 0.15);\n",
              "      filter: drop-shadow(0px 1px 2px rgba(0, 0, 0, 0.3));\n",
              "      fill: #FFFFFF;\n",
              "    }\n",
              "  </style>\n",
              "\n",
              "      <script>\n",
              "        const buttonEl =\n",
              "          document.querySelector('#df-80d70db1-4042-46c2-a99e-59490e79569a button.colab-df-convert');\n",
              "        buttonEl.style.display =\n",
              "          google.colab.kernel.accessAllowed ? 'block' : 'none';\n",
              "\n",
              "        async function convertToInteractive(key) {\n",
              "          const element = document.querySelector('#df-80d70db1-4042-46c2-a99e-59490e79569a');\n",
              "          const dataTable =\n",
              "            await google.colab.kernel.invokeFunction('convertToInteractive',\n",
              "                                                     [key], {});\n",
              "          if (!dataTable) return;\n",
              "\n",
              "          const docLinkHtml = 'Like what you see? Visit the ' +\n",
              "            '<a target=\"_blank\" href=https://colab.research.google.com/notebooks/data_table.ipynb>data table notebook</a>'\n",
              "            + ' to learn more about interactive tables.';\n",
              "          element.innerHTML = '';\n",
              "          dataTable['output_type'] = 'display_data';\n",
              "          await google.colab.output.renderOutput(dataTable, element);\n",
              "          const docLink = document.createElement('div');\n",
              "          docLink.innerHTML = docLinkHtml;\n",
              "          element.appendChild(docLink);\n",
              "        }\n",
              "      </script>\n",
              "    </div>\n",
              "  </div>\n",
              "  "
            ]
          },
          "metadata": {},
          "execution_count": 125
        }
      ]
    },
    {
      "cell_type": "code",
      "execution_count": 126,
      "id": "028a54ea",
      "metadata": {
        "execution": {
          "iopub.execute_input": "2022-05-26T22:28:00.056809Z",
          "iopub.status.busy": "2022-05-26T22:28:00.056395Z",
          "iopub.status.idle": "2022-05-26T22:28:00.141006Z",
          "shell.execute_reply": "2022-05-26T22:28:00.139136Z"
        },
        "papermill": {
          "duration": 0.09909,
          "end_time": "2022-05-26T22:28:00.143529",
          "exception": false,
          "start_time": "2022-05-26T22:28:00.044439",
          "status": "completed"
        },
        "tags": [],
        "id": "028a54ea",
        "colab": {
          "base_uri": "https://localhost:8080/"
        },
        "outputId": "b41eec97-8eb0-4b11-d952-9d99dca05533"
      },
      "outputs": [
        {
          "output_type": "stream",
          "name": "stdout",
          "text": [
            "Number of Unique Drugs present in the Dataset : 2637\n",
            "Number of Unique Medical Conditions present in the Dataset : 708\n",
            "\n",
            "The Time Period of Collecting the Data\n",
            "Starting Date : 1-Apr-08\n",
            "Ending Date : 9-Sep-17\n"
          ]
        }
      ],
      "source": [
        "# lets Explore Some of the Important Column in the dataset\n",
        "\n",
        "print(\"Number of Unique Drugs present in the Dataset :\", data['drugName'].nunique())\n",
        "print(\"Number of Unique Medical Conditions present in the Dataset :\", data['condition'].nunique())\n",
        "\n",
        "print()\n",
        "print(\"The Time Period of Collecting the Data\")\n",
        "print(\"Starting Date :\", data['date'].min())\n",
        "print(\"Ending Date :\", data['date'].max())"
      ]
    },
    {
      "cell_type": "markdown",
      "id": "1f495dca",
      "metadata": {
        "papermill": {
          "duration": 0.010605,
          "end_time": "2022-05-26T22:28:00.164838",
          "exception": false,
          "start_time": "2022-05-26T22:28:00.154233",
          "status": "completed"
        },
        "tags": [],
        "id": "1f495dca"
      },
      "source": [
        "### Summarizing the Dataset"
      ]
    },
    {
      "cell_type": "code",
      "execution_count": 127,
      "id": "ed4cc69e",
      "metadata": {
        "execution": {
          "iopub.execute_input": "2022-05-26T22:28:00.188025Z",
          "iopub.status.busy": "2022-05-26T22:28:00.187615Z",
          "iopub.status.idle": "2022-05-26T22:28:00.229873Z",
          "shell.execute_reply": "2022-05-26T22:28:00.228622Z"
        },
        "papermill": {
          "duration": 0.056999,
          "end_time": "2022-05-26T22:28:00.232364",
          "exception": false,
          "start_time": "2022-05-26T22:28:00.175365",
          "status": "completed"
        },
        "tags": [],
        "id": "ed4cc69e",
        "colab": {
          "base_uri": "https://localhost:8080/",
          "height": 297
        },
        "outputId": "f0a8c367-860e-4c15-8430-9f6a3c77f603"
      },
      "outputs": [
        {
          "output_type": "execute_result",
          "data": {
            "text/plain": [
              "             rating   usefulCount\n",
              "count  53766.000000  53766.000000\n",
              "mean       6.976900     27.989752\n",
              "std        3.285207     36.172833\n",
              "min        1.000000      0.000000\n",
              "25%        4.000000      6.000000\n",
              "50%        8.000000     16.000000\n",
              "75%       10.000000     36.000000\n",
              "max       10.000000    949.000000"
            ],
            "text/html": [
              "\n",
              "  <div id=\"df-f1206f07-8b3b-4771-97a8-d11d6e58bc53\">\n",
              "    <div class=\"colab-df-container\">\n",
              "      <div>\n",
              "<style scoped>\n",
              "    .dataframe tbody tr th:only-of-type {\n",
              "        vertical-align: middle;\n",
              "    }\n",
              "\n",
              "    .dataframe tbody tr th {\n",
              "        vertical-align: top;\n",
              "    }\n",
              "\n",
              "    .dataframe thead th {\n",
              "        text-align: right;\n",
              "    }\n",
              "</style>\n",
              "<table border=\"1\" class=\"dataframe\">\n",
              "  <thead>\n",
              "    <tr style=\"text-align: right;\">\n",
              "      <th></th>\n",
              "      <th>rating</th>\n",
              "      <th>usefulCount</th>\n",
              "    </tr>\n",
              "  </thead>\n",
              "  <tbody>\n",
              "    <tr>\n",
              "      <th>count</th>\n",
              "      <td>53766.000000</td>\n",
              "      <td>53766.000000</td>\n",
              "    </tr>\n",
              "    <tr>\n",
              "      <th>mean</th>\n",
              "      <td>6.976900</td>\n",
              "      <td>27.989752</td>\n",
              "    </tr>\n",
              "    <tr>\n",
              "      <th>std</th>\n",
              "      <td>3.285207</td>\n",
              "      <td>36.172833</td>\n",
              "    </tr>\n",
              "    <tr>\n",
              "      <th>min</th>\n",
              "      <td>1.000000</td>\n",
              "      <td>0.000000</td>\n",
              "    </tr>\n",
              "    <tr>\n",
              "      <th>25%</th>\n",
              "      <td>4.000000</td>\n",
              "      <td>6.000000</td>\n",
              "    </tr>\n",
              "    <tr>\n",
              "      <th>50%</th>\n",
              "      <td>8.000000</td>\n",
              "      <td>16.000000</td>\n",
              "    </tr>\n",
              "    <tr>\n",
              "      <th>75%</th>\n",
              "      <td>10.000000</td>\n",
              "      <td>36.000000</td>\n",
              "    </tr>\n",
              "    <tr>\n",
              "      <th>max</th>\n",
              "      <td>10.000000</td>\n",
              "      <td>949.000000</td>\n",
              "    </tr>\n",
              "  </tbody>\n",
              "</table>\n",
              "</div>\n",
              "      <button class=\"colab-df-convert\" onclick=\"convertToInteractive('df-f1206f07-8b3b-4771-97a8-d11d6e58bc53')\"\n",
              "              title=\"Convert this dataframe to an interactive table.\"\n",
              "              style=\"display:none;\">\n",
              "        \n",
              "  <svg xmlns=\"http://www.w3.org/2000/svg\" height=\"24px\"viewBox=\"0 0 24 24\"\n",
              "       width=\"24px\">\n",
              "    <path d=\"M0 0h24v24H0V0z\" fill=\"none\"/>\n",
              "    <path d=\"M18.56 5.44l.94 2.06.94-2.06 2.06-.94-2.06-.94-.94-2.06-.94 2.06-2.06.94zm-11 1L8.5 8.5l.94-2.06 2.06-.94-2.06-.94L8.5 2.5l-.94 2.06-2.06.94zm10 10l.94 2.06.94-2.06 2.06-.94-2.06-.94-.94-2.06-.94 2.06-2.06.94z\"/><path d=\"M17.41 7.96l-1.37-1.37c-.4-.4-.92-.59-1.43-.59-.52 0-1.04.2-1.43.59L10.3 9.45l-7.72 7.72c-.78.78-.78 2.05 0 2.83L4 21.41c.39.39.9.59 1.41.59.51 0 1.02-.2 1.41-.59l7.78-7.78 2.81-2.81c.8-.78.8-2.07 0-2.86zM5.41 20L4 18.59l7.72-7.72 1.47 1.35L5.41 20z\"/>\n",
              "  </svg>\n",
              "      </button>\n",
              "      \n",
              "  <style>\n",
              "    .colab-df-container {\n",
              "      display:flex;\n",
              "      flex-wrap:wrap;\n",
              "      gap: 12px;\n",
              "    }\n",
              "\n",
              "    .colab-df-convert {\n",
              "      background-color: #E8F0FE;\n",
              "      border: none;\n",
              "      border-radius: 50%;\n",
              "      cursor: pointer;\n",
              "      display: none;\n",
              "      fill: #1967D2;\n",
              "      height: 32px;\n",
              "      padding: 0 0 0 0;\n",
              "      width: 32px;\n",
              "    }\n",
              "\n",
              "    .colab-df-convert:hover {\n",
              "      background-color: #E2EBFA;\n",
              "      box-shadow: 0px 1px 2px rgba(60, 64, 67, 0.3), 0px 1px 3px 1px rgba(60, 64, 67, 0.15);\n",
              "      fill: #174EA6;\n",
              "    }\n",
              "\n",
              "    [theme=dark] .colab-df-convert {\n",
              "      background-color: #3B4455;\n",
              "      fill: #D2E3FC;\n",
              "    }\n",
              "\n",
              "    [theme=dark] .colab-df-convert:hover {\n",
              "      background-color: #434B5C;\n",
              "      box-shadow: 0px 1px 3px 1px rgba(0, 0, 0, 0.15);\n",
              "      filter: drop-shadow(0px 1px 2px rgba(0, 0, 0, 0.3));\n",
              "      fill: #FFFFFF;\n",
              "    }\n",
              "  </style>\n",
              "\n",
              "      <script>\n",
              "        const buttonEl =\n",
              "          document.querySelector('#df-f1206f07-8b3b-4771-97a8-d11d6e58bc53 button.colab-df-convert');\n",
              "        buttonEl.style.display =\n",
              "          google.colab.kernel.accessAllowed ? 'block' : 'none';\n",
              "\n",
              "        async function convertToInteractive(key) {\n",
              "          const element = document.querySelector('#df-f1206f07-8b3b-4771-97a8-d11d6e58bc53');\n",
              "          const dataTable =\n",
              "            await google.colab.kernel.invokeFunction('convertToInteractive',\n",
              "                                                     [key], {});\n",
              "          if (!dataTable) return;\n",
              "\n",
              "          const docLinkHtml = 'Like what you see? Visit the ' +\n",
              "            '<a target=\"_blank\" href=https://colab.research.google.com/notebooks/data_table.ipynb>data table notebook</a>'\n",
              "            + ' to learn more about interactive tables.';\n",
              "          element.innerHTML = '';\n",
              "          dataTable['output_type'] = 'display_data';\n",
              "          await google.colab.output.renderOutput(dataTable, element);\n",
              "          const docLink = document.createElement('div');\n",
              "          docLink.innerHTML = docLinkHtml;\n",
              "          element.appendChild(docLink);\n",
              "        }\n",
              "      </script>\n",
              "    </div>\n",
              "  </div>\n",
              "  "
            ]
          },
          "metadata": {},
          "execution_count": 127
        }
      ],
      "source": [
        "# lets summarize the Dataset\n",
        "data[['rating','usefulCount']].describe()"
      ]
    },
    {
      "cell_type": "code",
      "execution_count": 128,
      "id": "aef6d76f",
      "metadata": {
        "execution": {
          "iopub.execute_input": "2022-05-26T22:28:00.257390Z",
          "iopub.status.busy": "2022-05-26T22:28:00.256951Z",
          "iopub.status.idle": "2022-05-26T22:28:00.288685Z",
          "shell.execute_reply": "2022-05-26T22:28:00.287462Z"
        },
        "papermill": {
          "duration": 0.046596,
          "end_time": "2022-05-26T22:28:00.291165",
          "exception": false,
          "start_time": "2022-05-26T22:28:00.244569",
          "status": "completed"
        },
        "tags": [],
        "id": "aef6d76f",
        "colab": {
          "base_uri": "https://localhost:8080/"
        },
        "outputId": "193283a2-c323-419b-8e37-eac218b8e10e"
      },
      "outputs": [
        {
          "output_type": "stream",
          "name": "stdout",
          "text": [
            "Analysis on Useless Drugs\n",
            "----------------------------\n",
            "The Number of Drugs with No Useful Count : 2084\n",
            "Number of Good Drugs with Lesser Useful Count : 0\n",
            "Average Rating of Drugs with No Useful Count : 5.87\n",
            "\n",
            "Analysis on Useful Drugs\n",
            "----------------------------\n",
            "The Number of Drugs with Greater than 1000 Useful Counts : 0\n",
            "Average Rating of Drugs with 1000+ Useful Counts : nan\n",
            "\n",
            "Name and Condition of these Drugs: \n",
            "\n",
            " Empty DataFrame\n",
            "Columns: [drugName, condition]\n",
            "Index: []\n"
          ]
        }
      ],
      "source": [
        "# lets check the Number and Name of the Drugs with 0 Useful Count in Details\n",
        "print(\"Analysis on Useless Drugs\")\n",
        "print(\"----------------------------\")\n",
        "print(\"The Number of Drugs with No Useful Count :\", data[data['usefulCount'] == 0].count()[0])\n",
        "\n",
        "# Lets Check the Number of Drugs with No Usesful Count with Review Greater than or Equal to 8\n",
        "print(\"Number of Good Drugs with Lesser Useful Count :\", data[(data['usefulCount'] == 0) &\n",
        "                                                data['rating'] >= 8].count()[0])\n",
        "\n",
        "# Lets Check the Average Rating of the Drugs with No Useful Count\n",
        "print(\"Average Rating of Drugs with No Useful Count : {0:.2f}\".format(data[data['usefulCount'] == 0]['rating'].mean()))\n",
        "\n",
        "print(\"\\nAnalysis on Useful Drugs\")\n",
        "print(\"----------------------------\")\n",
        "print(\"The Number of Drugs with Greater than 1000 Useful Counts :\", data[data['usefulCount'] > 1000].count()[0])\n",
        "print(\"Average Rating of Drugs with 1000+ Useful Counts :\", data[data['usefulCount'] > 1000]['rating'].mean())\n",
        "print(\"\\nName and Condition of these Drugs: \\n\\n\", \n",
        "    data[data['usefulCount'] > 1000][['drugName','condition']].reset_index(drop = True))"
      ]
    },
    {
      "cell_type": "code",
      "execution_count": 129,
      "id": "bed57cc0",
      "metadata": {
        "execution": {
          "iopub.execute_input": "2022-05-26T22:28:00.314979Z",
          "iopub.status.busy": "2022-05-26T22:28:00.314250Z",
          "iopub.status.idle": "2022-05-26T22:28:00.618049Z",
          "shell.execute_reply": "2022-05-26T22:28:00.617002Z"
        },
        "papermill": {
          "duration": 0.318227,
          "end_time": "2022-05-26T22:28:00.620341",
          "exception": false,
          "start_time": "2022-05-26T22:28:00.302114",
          "status": "completed"
        },
        "tags": [],
        "id": "bed57cc0",
        "colab": {
          "base_uri": "https://localhost:8080/",
          "height": 173
        },
        "outputId": "fe962287-0190-4ea0-d82a-07cb23687519"
      },
      "outputs": [
        {
          "output_type": "execute_result",
          "data": {
            "text/plain": [
              "              drugName      condition   review\n",
              "count            53766          53471    53766\n",
              "unique            2637            708    48280\n",
              "top     Levonorgestrel  Birth Control  \"Good.\"\n",
              "freq              1273           9648        8"
            ],
            "text/html": [
              "\n",
              "  <div id=\"df-24823dda-b2a6-415e-a57f-c5225fe96ed0\">\n",
              "    <div class=\"colab-df-container\">\n",
              "      <div>\n",
              "<style scoped>\n",
              "    .dataframe tbody tr th:only-of-type {\n",
              "        vertical-align: middle;\n",
              "    }\n",
              "\n",
              "    .dataframe tbody tr th {\n",
              "        vertical-align: top;\n",
              "    }\n",
              "\n",
              "    .dataframe thead th {\n",
              "        text-align: right;\n",
              "    }\n",
              "</style>\n",
              "<table border=\"1\" class=\"dataframe\">\n",
              "  <thead>\n",
              "    <tr style=\"text-align: right;\">\n",
              "      <th></th>\n",
              "      <th>drugName</th>\n",
              "      <th>condition</th>\n",
              "      <th>review</th>\n",
              "    </tr>\n",
              "  </thead>\n",
              "  <tbody>\n",
              "    <tr>\n",
              "      <th>count</th>\n",
              "      <td>53766</td>\n",
              "      <td>53471</td>\n",
              "      <td>53766</td>\n",
              "    </tr>\n",
              "    <tr>\n",
              "      <th>unique</th>\n",
              "      <td>2637</td>\n",
              "      <td>708</td>\n",
              "      <td>48280</td>\n",
              "    </tr>\n",
              "    <tr>\n",
              "      <th>top</th>\n",
              "      <td>Levonorgestrel</td>\n",
              "      <td>Birth Control</td>\n",
              "      <td>\"Good.\"</td>\n",
              "    </tr>\n",
              "    <tr>\n",
              "      <th>freq</th>\n",
              "      <td>1273</td>\n",
              "      <td>9648</td>\n",
              "      <td>8</td>\n",
              "    </tr>\n",
              "  </tbody>\n",
              "</table>\n",
              "</div>\n",
              "      <button class=\"colab-df-convert\" onclick=\"convertToInteractive('df-24823dda-b2a6-415e-a57f-c5225fe96ed0')\"\n",
              "              title=\"Convert this dataframe to an interactive table.\"\n",
              "              style=\"display:none;\">\n",
              "        \n",
              "  <svg xmlns=\"http://www.w3.org/2000/svg\" height=\"24px\"viewBox=\"0 0 24 24\"\n",
              "       width=\"24px\">\n",
              "    <path d=\"M0 0h24v24H0V0z\" fill=\"none\"/>\n",
              "    <path d=\"M18.56 5.44l.94 2.06.94-2.06 2.06-.94-2.06-.94-.94-2.06-.94 2.06-2.06.94zm-11 1L8.5 8.5l.94-2.06 2.06-.94-2.06-.94L8.5 2.5l-.94 2.06-2.06.94zm10 10l.94 2.06.94-2.06 2.06-.94-2.06-.94-.94-2.06-.94 2.06-2.06.94z\"/><path d=\"M17.41 7.96l-1.37-1.37c-.4-.4-.92-.59-1.43-.59-.52 0-1.04.2-1.43.59L10.3 9.45l-7.72 7.72c-.78.78-.78 2.05 0 2.83L4 21.41c.39.39.9.59 1.41.59.51 0 1.02-.2 1.41-.59l7.78-7.78 2.81-2.81c.8-.78.8-2.07 0-2.86zM5.41 20L4 18.59l7.72-7.72 1.47 1.35L5.41 20z\"/>\n",
              "  </svg>\n",
              "      </button>\n",
              "      \n",
              "  <style>\n",
              "    .colab-df-container {\n",
              "      display:flex;\n",
              "      flex-wrap:wrap;\n",
              "      gap: 12px;\n",
              "    }\n",
              "\n",
              "    .colab-df-convert {\n",
              "      background-color: #E8F0FE;\n",
              "      border: none;\n",
              "      border-radius: 50%;\n",
              "      cursor: pointer;\n",
              "      display: none;\n",
              "      fill: #1967D2;\n",
              "      height: 32px;\n",
              "      padding: 0 0 0 0;\n",
              "      width: 32px;\n",
              "    }\n",
              "\n",
              "    .colab-df-convert:hover {\n",
              "      background-color: #E2EBFA;\n",
              "      box-shadow: 0px 1px 2px rgba(60, 64, 67, 0.3), 0px 1px 3px 1px rgba(60, 64, 67, 0.15);\n",
              "      fill: #174EA6;\n",
              "    }\n",
              "\n",
              "    [theme=dark] .colab-df-convert {\n",
              "      background-color: #3B4455;\n",
              "      fill: #D2E3FC;\n",
              "    }\n",
              "\n",
              "    [theme=dark] .colab-df-convert:hover {\n",
              "      background-color: #434B5C;\n",
              "      box-shadow: 0px 1px 3px 1px rgba(0, 0, 0, 0.15);\n",
              "      filter: drop-shadow(0px 1px 2px rgba(0, 0, 0, 0.3));\n",
              "      fill: #FFFFFF;\n",
              "    }\n",
              "  </style>\n",
              "\n",
              "      <script>\n",
              "        const buttonEl =\n",
              "          document.querySelector('#df-24823dda-b2a6-415e-a57f-c5225fe96ed0 button.colab-df-convert');\n",
              "        buttonEl.style.display =\n",
              "          google.colab.kernel.accessAllowed ? 'block' : 'none';\n",
              "\n",
              "        async function convertToInteractive(key) {\n",
              "          const element = document.querySelector('#df-24823dda-b2a6-415e-a57f-c5225fe96ed0');\n",
              "          const dataTable =\n",
              "            await google.colab.kernel.invokeFunction('convertToInteractive',\n",
              "                                                     [key], {});\n",
              "          if (!dataTable) return;\n",
              "\n",
              "          const docLinkHtml = 'Like what you see? Visit the ' +\n",
              "            '<a target=\"_blank\" href=https://colab.research.google.com/notebooks/data_table.ipynb>data table notebook</a>'\n",
              "            + ' to learn more about interactive tables.';\n",
              "          element.innerHTML = '';\n",
              "          dataTable['output_type'] = 'display_data';\n",
              "          await google.colab.output.renderOutput(dataTable, element);\n",
              "          const docLink = document.createElement('div');\n",
              "          docLink.innerHTML = docLinkHtml;\n",
              "          element.appendChild(docLink);\n",
              "        }\n",
              "      </script>\n",
              "    </div>\n",
              "  </div>\n",
              "  "
            ]
          },
          "metadata": {},
          "execution_count": 129
        }
      ],
      "source": [
        "# lets summarize Categorical data also\n",
        "data[['drugName','condition','review']].describe(include = 'object')"
      ]
    },
    {
      "cell_type": "code",
      "execution_count": 130,
      "id": "0998d9c5",
      "metadata": {
        "execution": {
          "iopub.execute_input": "2022-05-26T22:28:00.645053Z",
          "iopub.status.busy": "2022-05-26T22:28:00.644625Z",
          "iopub.status.idle": "2022-05-26T22:28:00.724084Z",
          "shell.execute_reply": "2022-05-26T22:28:00.722954Z"
        },
        "papermill": {
          "duration": 0.094939,
          "end_time": "2022-05-26T22:28:00.726467",
          "exception": false,
          "start_time": "2022-05-26T22:28:00.631528",
          "status": "completed"
        },
        "tags": [],
        "id": "0998d9c5",
        "colab": {
          "base_uri": "https://localhost:8080/"
        },
        "outputId": "36f7371f-93e9-47fe-c964-22e9002c6f33"
      },
      "outputs": [
        {
          "output_type": "execute_result",
          "data": {
            "text/plain": [
              "uniqueID         0\n",
              "drugName         0\n",
              "condition      295\n",
              "review           0\n",
              "rating           0\n",
              "date             0\n",
              "usefulCount      0\n",
              "dtype: int64"
            ]
          },
          "metadata": {},
          "execution_count": 130
        }
      ],
      "source": [
        "# lets check for Missing Values\n",
        "data.isnull().sum()"
      ]
    },
    {
      "cell_type": "code",
      "execution_count": 131,
      "id": "42989b40",
      "metadata": {
        "execution": {
          "iopub.execute_input": "2022-05-26T22:28:00.750471Z",
          "iopub.status.busy": "2022-05-26T22:28:00.750055Z",
          "iopub.status.idle": "2022-05-26T22:28:00.916087Z",
          "shell.execute_reply": "2022-05-26T22:28:00.915295Z"
        },
        "papermill": {
          "duration": 0.180773,
          "end_time": "2022-05-26T22:28:00.918352",
          "exception": false,
          "start_time": "2022-05-26T22:28:00.737579",
          "status": "completed"
        },
        "tags": [],
        "id": "42989b40"
      },
      "outputs": [],
      "source": [
        "# as we know that condition is an Important Column, so we will delete all the records where Condition is Missing\n",
        "data = data.dropna()"
      ]
    },
    {
      "cell_type": "code",
      "source": [
        "# lets check the Missing values now\n",
        "data.isnull().sum()"
      ],
      "metadata": {
        "colab": {
          "base_uri": "https://localhost:8080/"
        },
        "id": "LeWecqtgYzO7",
        "outputId": "3bf9a0a4-8c9b-474f-fad7-ff9d7d11c238"
      },
      "id": "LeWecqtgYzO7",
      "execution_count": 132,
      "outputs": [
        {
          "output_type": "execute_result",
          "data": {
            "text/plain": [
              "uniqueID       0\n",
              "drugName       0\n",
              "condition      0\n",
              "review         0\n",
              "rating         0\n",
              "date           0\n",
              "usefulCount    0\n",
              "dtype: int64"
            ]
          },
          "metadata": {},
          "execution_count": 132
        }
      ]
    },
    {
      "cell_type": "code",
      "source": [
        "# plotting the top 10 conditions\n",
        "\n",
        "conditions = dict(data['condition'].value_counts())\n",
        "top_conditions = list(conditions.keys())[0:10]\n",
        "values = list(conditions.values())[0:10]\n",
        "plt.figure(figsize=(18,8))\n",
        "sns.set_style(style='darkgrid')\n",
        "sns.barplot(x=top_conditions,y=values,palette=\"pastel\")\n",
        "plt.title('Top Conditions')\n",
        "plt.xlabel('Conditions')\n",
        "plt.ylabel('Count')\n",
        "plt.show()"
      ],
      "metadata": {
        "colab": {
          "base_uri": "https://localhost:8080/",
          "height": 554
        },
        "id": "Z_Kyj9VdZoDs",
        "outputId": "467131b0-b67c-49b0-f514-f8e9eb20d2e8"
      },
      "id": "Z_Kyj9VdZoDs",
      "execution_count": 133,
      "outputs": [
        {
          "output_type": "display_data",
          "data": {
            "text/plain": [
              "<Figure size 1296x576 with 1 Axes>"
            ],
            "image/png": "[encoded data removed]"
          },
          "metadata": {}
        }
      ]
    },
    {
      "cell_type": "code",
      "source": [
        "# plotting number of drugs for top 10 condition\n",
        "val=[]\n",
        "for c in list(conditions.keys()):\n",
        "    val.append(data[data['condition']==c]['drugName'].nunique())\n",
        "drug_cond = dict(zip(list(conditions.keys()),val))    \n",
        "top_conditions = list(drug_cond.keys())[0:10]\n",
        "values = list(drug_cond.values())[0:10]\n",
        "plt.figure(figsize=(16,8))\n",
        "sns.set_style(style='darkgrid')\n",
        "sns.barplot(x=top_conditions,y=values,palette='summer')\n",
        "plt.title('Number of Drugs for each Top 10 Conditions')\n",
        "plt.xlabel('Conditions')\n",
        "plt.ylabel('Count of Drugs')\n",
        "plt.show()"
      ],
      "metadata": {
        "colab": {
          "base_uri": "https://localhost:8080/",
          "height": 558
        },
        "id": "Gi7iBhy0aImN",
        "outputId": "00d5cf1b-268d-4681-9baf-4894e2883f9f"
      },
      "id": "Gi7iBhy0aImN",
      "execution_count": 134,
      "outputs": [
        {
          "output_type": "display_data",
          "data": {
            "text/plain": [
              "<Figure size 1152x576 with 1 Axes>"
            ],
            "image/png": "[encoded data removed]"
          },
          "metadata": {}
        }
      ]
    },
    {
      "cell_type": "markdown",
      "id": "c10deb88",
      "metadata": {
        "papermill": {
          "duration": 0.01176,
          "end_time": "2022-05-26T22:28:00.942205",
          "exception": false,
          "start_time": "2022-05-26T22:28:00.930445",
          "status": "completed"
        },
        "tags": [],
        "id": "c10deb88"
      },
      "source": [
        "### Unveiling Hidden Patterns from the Data"
      ]
    },
    {
      "cell_type": "code",
      "source": [
        "#plotting the percentage distribution of ratings using pie chart\n",
        "\n",
        "ratings_count = dict(data['rating'].value_counts())\n",
        "count = list(ratings_count.values())\n",
        "labels = list(ratings_count.keys())\n",
        "plt.figure(figsize=(18,9))\n",
        "plt.pie(count,labels=labels, autopct='%1.1f%%')\n",
        "plt.title('Pie Chart Representation of Ratings')\n",
        "plt.legend(title='Ratings')\n",
        "plt.show()"
      ],
      "metadata": {
        "colab": {
          "base_uri": "https://localhost:8080/",
          "height": 577
        },
        "id": "GzdEPSNdasqT",
        "outputId": "846f61df-44a8-4bd5-b1ca-8b05aa966e10"
      },
      "id": "GzdEPSNdasqT",
      "execution_count": 135,
      "outputs": [
        {
          "output_type": "display_data",
          "data": {
            "text/plain": [
              "<Figure size 1296x648 with 1 Axes>"
            ],
            "image/png": "[encoded data removed]"
          },
          "metadata": {}
        }
      ]
    },
    {
      "cell_type": "code",
      "execution_count": 136,
      "id": "6128d2d6",
      "metadata": {
        "execution": {
          "iopub.execute_input": "2022-05-26T22:28:00.969184Z",
          "iopub.status.busy": "2022-05-26T22:28:00.968215Z",
          "iopub.status.idle": "2022-05-26T22:28:02.838594Z",
          "shell.execute_reply": "2022-05-26T22:28:02.837139Z"
        },
        "papermill": {
          "duration": 1.887745,
          "end_time": "2022-05-26T22:28:02.841563",
          "exception": false,
          "start_time": "2022-05-26T22:28:00.953818",
          "status": "completed"
        },
        "tags": [],
        "id": "6128d2d6",
        "colab": {
          "base_uri": "https://localhost:8080/",
          "height": 332
        },
        "outputId": "2876efb4-4302-44fd-f84f-af6dc4446593"
      },
      "outputs": [
        {
          "output_type": "display_data",
          "data": {
            "text/plain": [
              "<Figure size 1296x288 with 2 Axes>"
            ],
            "image/png": "[encoded data removed]"
          },
          "metadata": {}
        }
      ],
      "source": [
        "# lets check the Distribution of Rating and Useful Count\n",
        "\n",
        "plt.rcParams['figure.figsize'] = (18, 4)\n",
        "\n",
        "plt.subplot(1, 2, 1)\n",
        "sns.distplot(data['rating'])\n",
        "\n",
        "plt.subplot(1, 2, 2)\n",
        "sns.distplot(data['usefulCount'])\n",
        "\n",
        "plt.suptitle('Distribution of Rating and Useful Count \\n ', fontsize = 20)\n",
        "plt.show()"
      ]
    },
    {
      "cell_type": "code",
      "execution_count": 137,
      "id": "2779a457",
      "metadata": {
        "execution": {
          "iopub.execute_input": "2022-05-26T22:28:02.868035Z",
          "iopub.status.busy": "2022-05-26T22:28:02.867418Z",
          "iopub.status.idle": "2022-05-26T22:28:05.383325Z",
          "shell.execute_reply": "2022-05-26T22:28:05.382229Z"
        },
        "papermill": {
          "duration": 2.53203,
          "end_time": "2022-05-26T22:28:05.385650",
          "exception": false,
          "start_time": "2022-05-26T22:28:02.853620",
          "status": "completed"
        },
        "tags": [],
        "id": "2779a457",
        "colab": {
          "base_uri": "https://localhost:8080/",
          "height": 389
        },
        "outputId": "22b260f8-4369-4be1-ed96-8bbc256a176c"
      },
      "outputs": [
        {
          "output_type": "display_data",
          "data": {
            "text/plain": [
              "<Figure size 1080x288 with 1 Axes>"
            ],
            "image/png": "[encoded data removed]"
          },
          "metadata": {}
        }
      ],
      "source": [
        "# lets check the Impact of Ratings on Usefulness\n",
        "\n",
        "plt.rcParams['figure.figsize'] = (15, 4)\n",
        "sns.barplot(data['rating'], data['usefulCount'])\n",
        "plt.grid()\n",
        "plt.xlabel('\\n Ratings')\n",
        "plt.ylabel('Count\\n', fontsize = 20)\n",
        "plt.title('\\n Rating vs Usefulness \\n', fontsize = 20)\n",
        "plt.show()"
      ]
    },
    {
      "cell_type": "code",
      "execution_count": 138,
      "id": "ec32d05f",
      "metadata": {
        "execution": {
          "iopub.execute_input": "2022-05-26T22:28:05.413164Z",
          "iopub.status.busy": "2022-05-26T22:28:05.412420Z",
          "iopub.status.idle": "2022-05-26T22:28:05.511566Z",
          "shell.execute_reply": "2022-05-26T22:28:05.510301Z"
        },
        "papermill": {
          "duration": 0.11593,
          "end_time": "2022-05-26T22:28:05.514307",
          "exception": false,
          "start_time": "2022-05-26T22:28:05.398377",
          "status": "completed"
        },
        "tags": [],
        "id": "ec32d05f"
      },
      "outputs": [],
      "source": [
        "# Checking whether Length of Review has any Impact on Ratings of the Drugs\n",
        "\n",
        "# for that we need to create a new column to calculate length of the reviews\n",
        "data['len']  = data['review'].apply(len)"
      ]
    },
    {
      "cell_type": "code",
      "execution_count": 139,
      "id": "13006f12",
      "metadata": {
        "execution": {
          "iopub.execute_input": "2022-05-26T22:28:05.543502Z",
          "iopub.status.busy": "2022-05-26T22:28:05.542981Z",
          "iopub.status.idle": "2022-05-26T22:28:05.579084Z",
          "shell.execute_reply": "2022-05-26T22:28:05.578210Z"
        },
        "papermill": {
          "duration": 0.052637,
          "end_time": "2022-05-26T22:28:05.581053",
          "exception": false,
          "start_time": "2022-05-26T22:28:05.528416",
          "status": "completed"
        },
        "tags": [],
        "id": "13006f12",
        "colab": {
          "base_uri": "https://localhost:8080/",
          "height": 421
        },
        "outputId": "f4ddd8fd-de52-41e7-9414-2af35c6d3a8a"
      },
      "outputs": [
        {
          "output_type": "execute_result",
          "data": {
            "text/plain": [
              "       len                  \n",
              "       min        mean   max\n",
              "rating                      \n",
              "1        5  427.267447  3103\n",
              "2       14  458.453959  2376\n",
              "3        8  449.259445  2142\n",
              "4        5  468.612667  1558\n",
              "5       10  480.199926  2010\n",
              "6        4  471.655566  2202\n",
              "7        6  482.972358  1266\n",
              "8        6  479.849134  1603\n",
              "9        3  476.221930  2733\n",
              "10       6  445.299994  6192"
            ],
            "text/html": [
              "\n",
              "  <div id=\"df-b1ce60d2-2873-4bb6-b7c7-0312f0b30eb1\">\n",
              "    <div class=\"colab-df-container\">\n",
              "      <div>\n",
              "<style scoped>\n",
              "    .dataframe tbody tr th:only-of-type {\n",
              "        vertical-align: middle;\n",
              "    }\n",
              "\n",
              "    .dataframe tbody tr th {\n",
              "        vertical-align: top;\n",
              "    }\n",
              "\n",
              "    .dataframe thead tr th {\n",
              "        text-align: left;\n",
              "    }\n",
              "\n",
              "    .dataframe thead tr:last-of-type th {\n",
              "        text-align: right;\n",
              "    }\n",
              "</style>\n",
              "<table border=\"1\" class=\"dataframe\">\n",
              "  <thead>\n",
              "    <tr>\n",
              "      <th></th>\n",
              "      <th colspan=\"3\" halign=\"left\">len</th>\n",
              "    </tr>\n",
              "    <tr>\n",
              "      <th></th>\n",
              "      <th>min</th>\n",
              "      <th>mean</th>\n",
              "      <th>max</th>\n",
              "    </tr>\n",
              "    <tr>\n",
              "      <th>rating</th>\n",
              "      <th></th>\n",
              "      <th></th>\n",
              "      <th></th>\n",
              "    </tr>\n",
              "  </thead>\n",
              "  <tbody>\n",
              "    <tr>\n",
              "      <th>1</th>\n",
              "      <td>5</td>\n",
              "      <td>427.267447</td>\n",
              "      <td>3103</td>\n",
              "    </tr>\n",
              "    <tr>\n",
              "      <th>2</th>\n",
              "      <td>14</td>\n",
              "      <td>458.453959</td>\n",
              "      <td>2376</td>\n",
              "    </tr>\n",
              "    <tr>\n",
              "      <th>3</th>\n",
              "      <td>8</td>\n",
              "      <td>449.259445</td>\n",
              "      <td>2142</td>\n",
              "    </tr>\n",
              "    <tr>\n",
              "      <th>4</th>\n",
              "      <td>5</td>\n",
              "      <td>468.612667</td>\n",
              "      <td>1558</td>\n",
              "    </tr>\n",
              "    <tr>\n",
              "      <th>5</th>\n",
              "      <td>10</td>\n",
              "      <td>480.199926</td>\n",
              "      <td>2010</td>\n",
              "    </tr>\n",
              "    <tr>\n",
              "      <th>6</th>\n",
              "      <td>4</td>\n",
              "      <td>471.655566</td>\n",
              "      <td>2202</td>\n",
              "    </tr>\n",
              "    <tr>\n",
              "      <th>7</th>\n",
              "      <td>6</td>\n",
              "      <td>482.972358</td>\n",
              "      <td>1266</td>\n",
              "    </tr>\n",
              "    <tr>\n",
              "      <th>8</th>\n",
              "      <td>6</td>\n",
              "      <td>479.849134</td>\n",
              "      <td>1603</td>\n",
              "    </tr>\n",
              "    <tr>\n",
              "      <th>9</th>\n",
              "      <td>3</td>\n",
              "      <td>476.221930</td>\n",
              "      <td>2733</td>\n",
              "    </tr>\n",
              "    <tr>\n",
              "      <th>10</th>\n",
              "      <td>6</td>\n",
              "      <td>445.299994</td>\n",
              "      <td>6192</td>\n",
              "    </tr>\n",
              "  </tbody>\n",
              "</table>\n",
              "</div>\n",
              "      <button class=\"colab-df-convert\" onclick=\"convertToInteractive('df-b1ce60d2-2873-4bb6-b7c7-0312f0b30eb1')\"\n",
              "              title=\"Convert this dataframe to an interactive table.\"\n",
              "              style=\"display:none;\">\n",
              "        \n",
              "  <svg xmlns=\"http://www.w3.org/2000/svg\" height=\"24px\"viewBox=\"0 0 24 24\"\n",
              "       width=\"24px\">\n",
              "    <path d=\"M0 0h24v24H0V0z\" fill=\"none\"/>\n",
              "    <path d=\"M18.56 5.44l.94 2.06.94-2.06 2.06-.94-2.06-.94-.94-2.06-.94 2.06-2.06.94zm-11 1L8.5 8.5l.94-2.06 2.06-.94-2.06-.94L8.5 2.5l-.94 2.06-2.06.94zm10 10l.94 2.06.94-2.06 2.06-.94-2.06-.94-.94-2.06-.94 2.06-2.06.94z\"/><path d=\"M17.41 7.96l-1.37-1.37c-.4-.4-.92-.59-1.43-.59-.52 0-1.04.2-1.43.59L10.3 9.45l-7.72 7.72c-.78.78-.78 2.05 0 2.83L4 21.41c.39.39.9.59 1.41.59.51 0 1.02-.2 1.41-.59l7.78-7.78 2.81-2.81c.8-.78.8-2.07 0-2.86zM5.41 20L4 18.59l7.72-7.72 1.47 1.35L5.41 20z\"/>\n",
              "  </svg>\n",
              "      </button>\n",
              "      \n",
              "  <style>\n",
              "    .colab-df-container {\n",
              "      display:flex;\n",
              "      flex-wrap:wrap;\n",
              "      gap: 12px;\n",
              "    }\n",
              "\n",
              "    .colab-df-convert {\n",
              "      background-color: #E8F0FE;\n",
              "      border: none;\n",
              "      border-radius: 50%;\n",
              "      cursor: pointer;\n",
              "      display: none;\n",
              "      fill: #1967D2;\n",
              "      height: 32px;\n",
              "      padding: 0 0 0 0;\n",
              "      width: 32px;\n",
              "    }\n",
              "\n",
              "    .colab-df-convert:hover {\n",
              "      background-color: #E2EBFA;\n",
              "      box-shadow: 0px 1px 2px rgba(60, 64, 67, 0.3), 0px 1px 3px 1px rgba(60, 64, 67, 0.15);\n",
              "      fill: #174EA6;\n",
              "    }\n",
              "\n",
              "    [theme=dark] .colab-df-convert {\n",
              "      background-color: #3B4455;\n",
              "      fill: #D2E3FC;\n",
              "    }\n",
              "\n",
              "    [theme=dark] .colab-df-convert:hover {\n",
              "      background-color: #434B5C;\n",
              "      box-shadow: 0px 1px 3px 1px rgba(0, 0, 0, 0.15);\n",
              "      filter: drop-shadow(0px 1px 2px rgba(0, 0, 0, 0.3));\n",
              "      fill: #FFFFFF;\n",
              "    }\n",
              "  </style>\n",
              "\n",
              "      <script>\n",
              "        const buttonEl =\n",
              "          document.querySelector('#df-b1ce60d2-2873-4bb6-b7c7-0312f0b30eb1 button.colab-df-convert');\n",
              "        buttonEl.style.display =\n",
              "          google.colab.kernel.accessAllowed ? 'block' : 'none';\n",
              "\n",
              "        async function convertToInteractive(key) {\n",
              "          const element = document.querySelector('#df-b1ce60d2-2873-4bb6-b7c7-0312f0b30eb1');\n",
              "          const dataTable =\n",
              "            await google.colab.kernel.invokeFunction('convertToInteractive',\n",
              "                                                     [key], {});\n",
              "          if (!dataTable) return;\n",
              "\n",
              "          const docLinkHtml = 'Like what you see? Visit the ' +\n",
              "            '<a target=\"_blank\" href=https://colab.research.google.com/notebooks/data_table.ipynb>data table notebook</a>'\n",
              "            + ' to learn more about interactive tables.';\n",
              "          element.innerHTML = '';\n",
              "          dataTable['output_type'] = 'display_data';\n",
              "          await google.colab.output.renderOutput(dataTable, element);\n",
              "          const docLink = document.createElement('div');\n",
              "          docLink.innerHTML = docLinkHtml;\n",
              "          element.appendChild(docLink);\n",
              "        }\n",
              "      </script>\n",
              "    </div>\n",
              "  </div>\n",
              "  "
            ]
          },
          "metadata": {},
          "execution_count": 139
        }
      ],
      "source": [
        "# lets check the Impact of Length of Reviews on Ratings\n",
        "data[['rating','len']].groupby(['rating']).agg(['min','mean','max'])"
      ]
    },
    {
      "cell_type": "markdown",
      "id": "e9ad7074",
      "metadata": {
        "papermill": {
          "duration": 0.013312,
          "end_time": "2022-05-26T22:28:05.647393",
          "exception": false,
          "start_time": "2022-05-26T22:28:05.634081",
          "status": "completed"
        },
        "tags": [],
        "id": "e9ad7074"
      },
      "source": [
        "### Cleaning the Reviews"
      ]
    },
    {
      "cell_type": "code",
      "execution_count": 140,
      "id": "675dc802",
      "metadata": {
        "execution": {
          "iopub.execute_input": "2022-05-26T22:28:05.675970Z",
          "iopub.status.busy": "2022-05-26T22:28:05.675106Z",
          "iopub.status.idle": "2022-05-26T22:28:15.021382Z",
          "shell.execute_reply": "2022-05-26T22:28:15.019913Z"
        },
        "papermill": {
          "duration": 9.364015,
          "end_time": "2022-05-26T22:28:15.024709",
          "exception": false,
          "start_time": "2022-05-26T22:28:05.660694",
          "status": "completed"
        },
        "tags": [],
        "id": "675dc802"
      },
      "outputs": [],
      "source": [
        "# as it is clear that the reviews have so many unnecassry things such as Stopwords, Punctuations, numbers etc\n",
        "\n",
        "# First lets remove Punctuations from the Reviews\n",
        "def punctuation_removal(messy_str):\n",
        "    clean_list = [char for char in messy_str if char not in string.punctuation]\n",
        "    clean_str = ''.join(clean_list)\n",
        "    return clean_str\n",
        "\n",
        "data['review'] = data['review'].apply(punctuation_removal)"
      ]
    },
    {
      "cell_type": "code",
      "execution_count": 141,
      "id": "f22eba6c",
      "metadata": {
        "execution": {
          "iopub.execute_input": "2022-05-26T22:28:15.054626Z",
          "iopub.status.busy": "2022-05-26T22:28:15.054152Z",
          "iopub.status.idle": "2022-05-26T22:30:24.482788Z",
          "shell.execute_reply": "2022-05-26T22:30:24.481675Z"
        },
        "papermill": {
          "duration": 129.447089,
          "end_time": "2022-05-26T22:30:24.485753",
          "exception": false,
          "start_time": "2022-05-26T22:28:15.038664",
          "status": "completed"
        },
        "tags": [],
        "id": "f22eba6c"
      },
      "outputs": [],
      "source": [
        "# Now lets Remove the Stopwords also\n",
        "\n",
        "stop = stopwords.words('english')\n",
        "stop.append(\"i'm\")\n",
        "\n",
        "stop_words = []\n",
        "\n",
        "for item in stop: \n",
        "    new_item = punctuation_removal(item)\n",
        "    stop_words.append(new_item) \n",
        "\n",
        "def stopwords_removal(messy_str):\n",
        "    messy_str = word_tokenize(messy_str)\n",
        "    return [word.lower() for word in messy_str \n",
        "            if word.lower() not in stop_words ]\n",
        "\n",
        "data['review'] = data['review'].apply(stopwords_removal)"
      ]
    },
    {
      "cell_type": "code",
      "execution_count": 142,
      "id": "83879211",
      "metadata": {
        "execution": {
          "iopub.execute_input": "2022-05-26T22:30:24.514405Z",
          "iopub.status.busy": "2022-05-26T22:30:24.513634Z",
          "iopub.status.idle": "2022-05-26T22:30:33.507615Z",
          "shell.execute_reply": "2022-05-26T22:30:33.506281Z"
        },
        "papermill": {
          "duration": 9.011021,
          "end_time": "2022-05-26T22:30:33.510215",
          "exception": false,
          "start_time": "2022-05-26T22:30:24.499194",
          "status": "completed"
        },
        "tags": [],
        "id": "83879211"
      },
      "outputs": [],
      "source": [
        "# lets remove the Numbers also\n",
        "\n",
        "import re\n",
        "def drop_numbers(list_text):\n",
        "    list_text_new = []\n",
        "    for i in list_text:\n",
        "        if not re.search('\\d', i):\n",
        "            list_text_new.append(i)\n",
        "    return ' '.join(list_text_new)\n",
        "\n",
        "data['review'] = data['review'].apply(drop_numbers)"
      ]
    },
    {
      "cell_type": "markdown",
      "id": "187bb3f5",
      "metadata": {
        "papermill": {
          "duration": 0.015068,
          "end_time": "2022-05-26T22:30:33.541973",
          "exception": false,
          "start_time": "2022-05-26T22:30:33.526905",
          "status": "completed"
        },
        "tags": [],
        "id": "187bb3f5"
      },
      "source": [
        "### Calculating the Sentiment from Reviews"
      ]
    },
    {
      "cell_type": "code",
      "execution_count": 143,
      "id": "dbe2335b",
      "metadata": {
        "execution": {
          "iopub.execute_input": "2022-05-26T22:30:33.569940Z",
          "iopub.status.busy": "2022-05-26T22:30:33.569520Z",
          "iopub.status.idle": "2022-05-26T22:30:33.855615Z",
          "shell.execute_reply": "2022-05-26T22:30:33.854481Z"
        },
        "papermill": {
          "duration": 0.302737,
          "end_time": "2022-05-26T22:30:33.857822",
          "exception": false,
          "start_time": "2022-05-26T22:30:33.555085",
          "status": "completed"
        },
        "tags": [],
        "id": "dbe2335b",
        "colab": {
          "base_uri": "https://localhost:8080/"
        },
        "outputId": "d1469cf2-b6e3-4db8-c30e-85767c08c133"
      },
      "outputs": [
        {
          "output_type": "stream",
          "name": "stderr",
          "text": [
            "[nltk_data] Downloading package vader_lexicon to /root/nltk_data...\n",
            "[nltk_data]   Package vader_lexicon is already up-to-date!\n"
          ]
        },
        {
          "output_type": "execute_result",
          "data": {
            "text/plain": [
              "True"
            ]
          },
          "metadata": {},
          "execution_count": 143
        }
      ],
      "source": [
        "# for using Sentiment Analyzer we will have to dowload the Vader Lexicon from NLTK\n",
        "nltk.download('vader_lexicon')"
      ]
    },
    {
      "cell_type": "code",
      "execution_count": 144,
      "id": "f5e4f998",
      "metadata": {
        "execution": {
          "iopub.execute_input": "2022-05-26T22:30:33.886297Z",
          "iopub.status.busy": "2022-05-26T22:30:33.885845Z",
          "iopub.status.idle": "2022-05-26T22:32:23.016401Z",
          "shell.execute_reply": "2022-05-26T22:32:23.015099Z"
        },
        "papermill": {
          "duration": 109.148421,
          "end_time": "2022-05-26T22:32:23.019385",
          "exception": false,
          "start_time": "2022-05-26T22:30:33.870964",
          "status": "completed"
        },
        "tags": [],
        "id": "f5e4f998"
      },
      "outputs": [],
      "source": [
        "# lets calculate the Sentiment from Reviews\n",
        "\n",
        "from nltk.sentiment.vader import SentimentIntensityAnalyzer\n",
        "sid = SentimentIntensityAnalyzer()\n",
        "train_sentiments = []\n",
        "for i in data['review']:\n",
        "    train_sentiments.append(sid.polarity_scores(i).get('compound'))\n",
        "    \n",
        "train_sentiments = np.asarray(train_sentiments)\n",
        "data['sentiment'] = pd.Series(data=train_sentiments)"
      ]
    },
    {
      "cell_type": "code",
      "execution_count": 145,
      "id": "7072d298",
      "metadata": {
        "execution": {
          "iopub.execute_input": "2022-05-26T22:32:23.050466Z",
          "iopub.status.busy": "2022-05-26T22:32:23.050011Z",
          "iopub.status.idle": "2022-05-26T22:32:23.075737Z",
          "shell.execute_reply": "2022-05-26T22:32:23.074657Z"
        },
        "papermill": {
          "duration": 0.044532,
          "end_time": "2022-05-26T22:32:23.078040",
          "exception": false,
          "start_time": "2022-05-26T22:32:23.033508",
          "status": "completed"
        },
        "tags": [],
        "id": "7072d298",
        "colab": {
          "base_uri": "https://localhost:8080/",
          "height": 421
        },
        "outputId": "06cac021-5a8c-4e76-865b-64a772c3ee97"
      },
      "outputs": [
        {
          "output_type": "execute_result",
          "data": {
            "text/plain": [
              "       sentiment                  \n",
              "             min      mean     max\n",
              "rating                            \n",
              "1        -0.9938 -0.011343  0.9935\n",
              "2        -0.9946 -0.000385  0.9833\n",
              "3        -0.9919 -0.005612  0.9864\n",
              "4        -0.9914 -0.029316  0.9850\n",
              "5        -0.9876  0.014860  0.9814\n",
              "6        -0.9894  0.008093  0.9828\n",
              "7        -0.9916 -0.012391  0.9884\n",
              "8        -0.9936  0.009604  0.9935\n",
              "9        -0.9982  0.012665  0.9882\n",
              "10       -0.9949  0.006805  0.9911"
            ],
            "text/html": [
              "\n",
              "  <div id=\"df-4e5bfe21-48a5-4560-9928-99f9ac9bdc54\">\n",
              "    <div class=\"colab-df-container\">\n",
              "      <div>\n",
              "<style scoped>\n",
              "    .dataframe tbody tr th:only-of-type {\n",
              "        vertical-align: middle;\n",
              "    }\n",
              "\n",
              "    .dataframe tbody tr th {\n",
              "        vertical-align: top;\n",
              "    }\n",
              "\n",
              "    .dataframe thead tr th {\n",
              "        text-align: left;\n",
              "    }\n",
              "\n",
              "    .dataframe thead tr:last-of-type th {\n",
              "        text-align: right;\n",
              "    }\n",
              "</style>\n",
              "<table border=\"1\" class=\"dataframe\">\n",
              "  <thead>\n",
              "    <tr>\n",
              "      <th></th>\n",
              "      <th colspan=\"3\" halign=\"left\">sentiment</th>\n",
              "    </tr>\n",
              "    <tr>\n",
              "      <th></th>\n",
              "      <th>min</th>\n",
              "      <th>mean</th>\n",
              "      <th>max</th>\n",
              "    </tr>\n",
              "    <tr>\n",
              "      <th>rating</th>\n",
              "      <th></th>\n",
              "      <th></th>\n",
              "      <th></th>\n",
              "    </tr>\n",
              "  </thead>\n",
              "  <tbody>\n",
              "    <tr>\n",
              "      <th>1</th>\n",
              "      <td>-0.9938</td>\n",
              "      <td>-0.011343</td>\n",
              "      <td>0.9935</td>\n",
              "    </tr>\n",
              "    <tr>\n",
              "      <th>2</th>\n",
              "      <td>-0.9946</td>\n",
              "      <td>-0.000385</td>\n",
              "      <td>0.9833</td>\n",
              "    </tr>\n",
              "    <tr>\n",
              "      <th>3</th>\n",
              "      <td>-0.9919</td>\n",
              "      <td>-0.005612</td>\n",
              "      <td>0.9864</td>\n",
              "    </tr>\n",
              "    <tr>\n",
              "      <th>4</th>\n",
              "      <td>-0.9914</td>\n",
              "      <td>-0.029316</td>\n",
              "      <td>0.9850</td>\n",
              "    </tr>\n",
              "    <tr>\n",
              "      <th>5</th>\n",
              "      <td>-0.9876</td>\n",
              "      <td>0.014860</td>\n",
              "      <td>0.9814</td>\n",
              "    </tr>\n",
              "    <tr>\n",
              "      <th>6</th>\n",
              "      <td>-0.9894</td>\n",
              "      <td>0.008093</td>\n",
              "      <td>0.9828</td>\n",
              "    </tr>\n",
              "    <tr>\n",
              "      <th>7</th>\n",
              "      <td>-0.9916</td>\n",
              "      <td>-0.012391</td>\n",
              "      <td>0.9884</td>\n",
              "    </tr>\n",
              "    <tr>\n",
              "      <th>8</th>\n",
              "      <td>-0.9936</td>\n",
              "      <td>0.009604</td>\n",
              "      <td>0.9935</td>\n",
              "    </tr>\n",
              "    <tr>\n",
              "      <th>9</th>\n",
              "      <td>-0.9982</td>\n",
              "      <td>0.012665</td>\n",
              "      <td>0.9882</td>\n",
              "    </tr>\n",
              "    <tr>\n",
              "      <th>10</th>\n",
              "      <td>-0.9949</td>\n",
              "      <td>0.006805</td>\n",
              "      <td>0.9911</td>\n",
              "    </tr>\n",
              "  </tbody>\n",
              "</table>\n",
              "</div>\n",
              "      <button class=\"colab-df-convert\" onclick=\"convertToInteractive('df-4e5bfe21-48a5-4560-9928-99f9ac9bdc54')\"\n",
              "              title=\"Convert this dataframe to an interactive table.\"\n",
              "              style=\"display:none;\">\n",
              "        \n",
              "  <svg xmlns=\"http://www.w3.org/2000/svg\" height=\"24px\"viewBox=\"0 0 24 24\"\n",
              "       width=\"24px\">\n",
              "    <path d=\"M0 0h24v24H0V0z\" fill=\"none\"/>\n",
              "    <path d=\"M18.56 5.44l.94 2.06.94-2.06 2.06-.94-2.06-.94-.94-2.06-.94 2.06-2.06.94zm-11 1L8.5 8.5l.94-2.06 2.06-.94-2.06-.94L8.5 2.5l-.94 2.06-2.06.94zm10 10l.94 2.06.94-2.06 2.06-.94-2.06-.94-.94-2.06-.94 2.06-2.06.94z\"/><path d=\"M17.41 7.96l-1.37-1.37c-.4-.4-.92-.59-1.43-.59-.52 0-1.04.2-1.43.59L10.3 9.45l-7.72 7.72c-.78.78-.78 2.05 0 2.83L4 21.41c.39.39.9.59 1.41.59.51 0 1.02-.2 1.41-.59l7.78-7.78 2.81-2.81c.8-.78.8-2.07 0-2.86zM5.41 20L4 18.59l7.72-7.72 1.47 1.35L5.41 20z\"/>\n",
              "  </svg>\n",
              "      </button>\n",
              "      \n",
              "  <style>\n",
              "    .colab-df-container {\n",
              "      display:flex;\n",
              "      flex-wrap:wrap;\n",
              "      gap: 12px;\n",
              "    }\n",
              "\n",
              "    .colab-df-convert {\n",
              "      background-color: #E8F0FE;\n",
              "      border: none;\n",
              "      border-radius: 50%;\n",
              "      cursor: pointer;\n",
              "      display: none;\n",
              "      fill: #1967D2;\n",
              "      height: 32px;\n",
              "      padding: 0 0 0 0;\n",
              "      width: 32px;\n",
              "    }\n",
              "\n",
              "    .colab-df-convert:hover {\n",
              "      background-color: #E2EBFA;\n",
              "      box-shadow: 0px 1px 2px rgba(60, 64, 67, 0.3), 0px 1px 3px 1px rgba(60, 64, 67, 0.15);\n",
              "      fill: #174EA6;\n",
              "    }\n",
              "\n",
              "    [theme=dark] .colab-df-convert {\n",
              "      background-color: #3B4455;\n",
              "      fill: #D2E3FC;\n",
              "    }\n",
              "\n",
              "    [theme=dark] .colab-df-convert:hover {\n",
              "      background-color: #434B5C;\n",
              "      box-shadow: 0px 1px 3px 1px rgba(0, 0, 0, 0.15);\n",
              "      filter: drop-shadow(0px 1px 2px rgba(0, 0, 0, 0.3));\n",
              "      fill: #FFFFFF;\n",
              "    }\n",
              "  </style>\n",
              "\n",
              "      <script>\n",
              "        const buttonEl =\n",
              "          document.querySelector('#df-4e5bfe21-48a5-4560-9928-99f9ac9bdc54 button.colab-df-convert');\n",
              "        buttonEl.style.display =\n",
              "          google.colab.kernel.accessAllowed ? 'block' : 'none';\n",
              "\n",
              "        async function convertToInteractive(key) {\n",
              "          const element = document.querySelector('#df-4e5bfe21-48a5-4560-9928-99f9ac9bdc54');\n",
              "          const dataTable =\n",
              "            await google.colab.kernel.invokeFunction('convertToInteractive',\n",
              "                                                     [key], {});\n",
              "          if (!dataTable) return;\n",
              "\n",
              "          const docLinkHtml = 'Like what you see? Visit the ' +\n",
              "            '<a target=\"_blank\" href=https://colab.research.google.com/notebooks/data_table.ipynb>data table notebook</a>'\n",
              "            + ' to learn more about interactive tables.';\n",
              "          element.innerHTML = '';\n",
              "          dataTable['output_type'] = 'display_data';\n",
              "          await google.colab.output.renderOutput(dataTable, element);\n",
              "          const docLink = document.createElement('div');\n",
              "          docLink.innerHTML = docLinkHtml;\n",
              "          element.appendChild(docLink);\n",
              "        }\n",
              "      </script>\n",
              "    </div>\n",
              "  </div>\n",
              "  "
            ]
          },
          "metadata": {},
          "execution_count": 145
        }
      ],
      "source": [
        "# lets check Impact of Sentiment on Reviews\n",
        "data[['rating','sentiment']].groupby(['rating']).agg(['min','mean','max'])"
      ]
    },
    {
      "cell_type": "code",
      "execution_count": 146,
      "id": "6046ba68",
      "metadata": {
        "execution": {
          "iopub.execute_input": "2022-05-26T22:32:23.107522Z",
          "iopub.status.busy": "2022-05-26T22:32:23.106830Z",
          "iopub.status.idle": "2022-05-26T22:32:23.149649Z",
          "shell.execute_reply": "2022-05-26T22:32:23.148231Z"
        },
        "papermill": {
          "duration": 0.060953,
          "end_time": "2022-05-26T22:32:23.152495",
          "exception": false,
          "start_time": "2022-05-26T22:32:23.091542",
          "status": "completed"
        },
        "tags": [],
        "id": "6046ba68",
        "colab": {
          "base_uri": "https://localhost:8080/"
        },
        "outputId": "c8d326aa-135c-4fb6-976d-9f92f1bac11d"
      },
      "outputs": [
        {
          "output_type": "execute_result",
          "data": {
            "text/plain": [
              "Index(['drugName', 'condition', 'rating', 'usefulCount'], dtype='object')"
            ]
          },
          "metadata": {},
          "execution_count": 146
        }
      ],
      "source": [
        "# as we can see that Sentiment and length of the review are not related to Reviews, we will drop the sentiment column\n",
        "\n",
        "# lets remove the unique Id, date, review, len, and sentiment column also\n",
        "data = data.drop(['date','uniqueID','sentiment','review','len'], axis = 1)\n",
        "\n",
        "# lets check the name of columns now\n",
        "data.columns"
      ]
    },
    {
      "cell_type": "markdown",
      "id": "85ab421d",
      "metadata": {
        "papermill": {
          "duration": 0.013371,
          "end_time": "2022-05-26T22:32:23.181322",
          "exception": false,
          "start_time": "2022-05-26T22:32:23.167951",
          "status": "completed"
        },
        "tags": [],
        "id": "85ab421d"
      },
      "source": [
        "### Calculating Effectiveness and Usefulness of Drugs"
      ]
    },
    {
      "cell_type": "code",
      "execution_count": 147,
      "id": "f01f8a1b",
      "metadata": {
        "execution": {
          "iopub.execute_input": "2022-05-26T22:32:23.212146Z",
          "iopub.status.busy": "2022-05-26T22:32:23.211527Z",
          "iopub.status.idle": "2022-05-26T22:32:24.083872Z",
          "shell.execute_reply": "2022-05-26T22:32:24.082675Z"
        },
        "papermill": {
          "duration": 0.891106,
          "end_time": "2022-05-26T22:32:24.086521",
          "exception": false,
          "start_time": "2022-05-26T22:32:23.195415",
          "status": "completed"
        },
        "tags": [],
        "id": "f01f8a1b"
      },
      "outputs": [],
      "source": [
        "# Lets Calculate an Effective Rating\n",
        "\n",
        "min_rating = data['rating'].min()\n",
        "max_rating = data['rating'].max()\n",
        "\n",
        "def scale_rating(rating):\n",
        "    rating -= min_rating\n",
        "    rating = rating/(max_rating -1)\n",
        "    rating *= 5\n",
        "    rating = int(round(rating,0))\n",
        "    \n",
        "    if(int(rating) == 0 or int(rating)==1 or int(rating)==2):\n",
        "        return 0\n",
        "    else:\n",
        "        return 1\n",
        "    \n",
        "data['eff_score'] = data['rating'].apply(scale_rating)"
      ]
    },
    {
      "cell_type": "code",
      "execution_count": 148,
      "id": "44efaefd",
      "metadata": {
        "execution": {
          "iopub.execute_input": "2022-05-26T22:32:24.116841Z",
          "iopub.status.busy": "2022-05-26T22:32:24.116057Z",
          "iopub.status.idle": "2022-05-26T22:32:24.149459Z",
          "shell.execute_reply": "2022-05-26T22:32:24.148345Z"
        },
        "papermill": {
          "duration": 0.051479,
          "end_time": "2022-05-26T22:32:24.151736",
          "exception": false,
          "start_time": "2022-05-26T22:32:24.100257",
          "status": "completed"
        },
        "tags": [],
        "id": "44efaefd",
        "colab": {
          "base_uri": "https://localhost:8080/",
          "height": 359
        },
        "outputId": "1bc50c12-5b6c-48ad-ec12-7db0350ae12a"
      },
      "outputs": [
        {
          "output_type": "execute_result",
          "data": {
            "text/plain": [
              "       drugName           condition  usefulness\n",
              "0    Sertraline          Depression        8541\n",
              "1  Etonogestrel       Birth Control        7300\n",
              "2    Sertraline          Depression        6800\n",
              "3     Oxycodone                Pain        6255\n",
              "4     OxyContin                Pain        6255\n",
              "5      Cymbalta          Depression        6210\n",
              "6    Sertraline          Depression        5796\n",
              "7     Buspirone             Anxiety        5265\n",
              "8    Citalopram          Depression        5031\n",
              "9        Prozac  Anxiety and Stress        4860"
            ],
            "text/html": [
              "\n",
              "  <div id=\"df-3ea7c81e-9b5b-472e-a5ad-31969f3dffde\">\n",
              "    <div class=\"colab-df-container\">\n",
              "      <div>\n",
              "<style scoped>\n",
              "    .dataframe tbody tr th:only-of-type {\n",
              "        vertical-align: middle;\n",
              "    }\n",
              "\n",
              "    .dataframe tbody tr th {\n",
              "        vertical-align: top;\n",
              "    }\n",
              "\n",
              "    .dataframe thead th {\n",
              "        text-align: right;\n",
              "    }\n",
              "</style>\n",
              "<table border=\"1\" class=\"dataframe\">\n",
              "  <thead>\n",
              "    <tr style=\"text-align: right;\">\n",
              "      <th></th>\n",
              "      <th>drugName</th>\n",
              "      <th>condition</th>\n",
              "      <th>usefulness</th>\n",
              "    </tr>\n",
              "  </thead>\n",
              "  <tbody>\n",
              "    <tr>\n",
              "      <th>0</th>\n",
              "      <td>Sertraline</td>\n",
              "      <td>Depression</td>\n",
              "      <td>8541</td>\n",
              "    </tr>\n",
              "    <tr>\n",
              "      <th>1</th>\n",
              "      <td>Etonogestrel</td>\n",
              "      <td>Birth Control</td>\n",
              "      <td>7300</td>\n",
              "    </tr>\n",
              "    <tr>\n",
              "      <th>2</th>\n",
              "      <td>Sertraline</td>\n",
              "      <td>Depression</td>\n",
              "      <td>6800</td>\n",
              "    </tr>\n",
              "    <tr>\n",
              "      <th>3</th>\n",
              "      <td>Oxycodone</td>\n",
              "      <td>Pain</td>\n",
              "      <td>6255</td>\n",
              "    </tr>\n",
              "    <tr>\n",
              "      <th>4</th>\n",
              "      <td>OxyContin</td>\n",
              "      <td>Pain</td>\n",
              "      <td>6255</td>\n",
              "    </tr>\n",
              "    <tr>\n",
              "      <th>5</th>\n",
              "      <td>Cymbalta</td>\n",
              "      <td>Depression</td>\n",
              "      <td>6210</td>\n",
              "    </tr>\n",
              "    <tr>\n",
              "      <th>6</th>\n",
              "      <td>Sertraline</td>\n",
              "      <td>Depression</td>\n",
              "      <td>5796</td>\n",
              "    </tr>\n",
              "    <tr>\n",
              "      <th>7</th>\n",
              "      <td>Buspirone</td>\n",
              "      <td>Anxiety</td>\n",
              "      <td>5265</td>\n",
              "    </tr>\n",
              "    <tr>\n",
              "      <th>8</th>\n",
              "      <td>Citalopram</td>\n",
              "      <td>Depression</td>\n",
              "      <td>5031</td>\n",
              "    </tr>\n",
              "    <tr>\n",
              "      <th>9</th>\n",
              "      <td>Prozac</td>\n",
              "      <td>Anxiety and Stress</td>\n",
              "      <td>4860</td>\n",
              "    </tr>\n",
              "  </tbody>\n",
              "</table>\n",
              "</div>\n",
              "      <button class=\"colab-df-convert\" onclick=\"convertToInteractive('df-3ea7c81e-9b5b-472e-a5ad-31969f3dffde')\"\n",
              "              title=\"Convert this dataframe to an interactive table.\"\n",
              "              style=\"display:none;\">\n",
              "        \n",
              "  <svg xmlns=\"http://www.w3.org/2000/svg\" height=\"24px\"viewBox=\"0 0 24 24\"\n",
              "       width=\"24px\">\n",
              "    <path d=\"M0 0h24v24H0V0z\" fill=\"none\"/>\n",
              "    <path d=\"M18.56 5.44l.94 2.06.94-2.06 2.06-.94-2.06-.94-.94-2.06-.94 2.06-2.06.94zm-11 1L8.5 8.5l.94-2.06 2.06-.94-2.06-.94L8.5 2.5l-.94 2.06-2.06.94zm10 10l.94 2.06.94-2.06 2.06-.94-2.06-.94-.94-2.06-.94 2.06-2.06.94z\"/><path d=\"M17.41 7.96l-1.37-1.37c-.4-.4-.92-.59-1.43-.59-.52 0-1.04.2-1.43.59L10.3 9.45l-7.72 7.72c-.78.78-.78 2.05 0 2.83L4 21.41c.39.39.9.59 1.41.59.51 0 1.02-.2 1.41-.59l7.78-7.78 2.81-2.81c.8-.78.8-2.07 0-2.86zM5.41 20L4 18.59l7.72-7.72 1.47 1.35L5.41 20z\"/>\n",
              "  </svg>\n",
              "      </button>\n",
              "      \n",
              "  <style>\n",
              "    .colab-df-container {\n",
              "      display:flex;\n",
              "      flex-wrap:wrap;\n",
              "      gap: 12px;\n",
              "    }\n",
              "\n",
              "    .colab-df-convert {\n",
              "      background-color: #E8F0FE;\n",
              "      border: none;\n",
              "      border-radius: 50%;\n",
              "      cursor: pointer;\n",
              "      display: none;\n",
              "      fill: #1967D2;\n",
              "      height: 32px;\n",
              "      padding: 0 0 0 0;\n",
              "      width: 32px;\n",
              "    }\n",
              "\n",
              "    .colab-df-convert:hover {\n",
              "      background-color: #E2EBFA;\n",
              "      box-shadow: 0px 1px 2px rgba(60, 64, 67, 0.3), 0px 1px 3px 1px rgba(60, 64, 67, 0.15);\n",
              "      fill: #174EA6;\n",
              "    }\n",
              "\n",
              "    [theme=dark] .colab-df-convert {\n",
              "      background-color: #3B4455;\n",
              "      fill: #D2E3FC;\n",
              "    }\n",
              "\n",
              "    [theme=dark] .colab-df-convert:hover {\n",
              "      background-color: #434B5C;\n",
              "      box-shadow: 0px 1px 3px 1px rgba(0, 0, 0, 0.15);\n",
              "      filter: drop-shadow(0px 1px 2px rgba(0, 0, 0, 0.3));\n",
              "      fill: #FFFFFF;\n",
              "    }\n",
              "  </style>\n",
              "\n",
              "      <script>\n",
              "        const buttonEl =\n",
              "          document.querySelector('#df-3ea7c81e-9b5b-472e-a5ad-31969f3dffde button.colab-df-convert');\n",
              "        buttonEl.style.display =\n",
              "          google.colab.kernel.accessAllowed ? 'block' : 'none';\n",
              "\n",
              "        async function convertToInteractive(key) {\n",
              "          const element = document.querySelector('#df-3ea7c81e-9b5b-472e-a5ad-31969f3dffde');\n",
              "          const dataTable =\n",
              "            await google.colab.kernel.invokeFunction('convertToInteractive',\n",
              "                                                     [key], {});\n",
              "          if (!dataTable) return;\n",
              "\n",
              "          const docLinkHtml = 'Like what you see? Visit the ' +\n",
              "            '<a target=\"_blank\" href=https://colab.research.google.com/notebooks/data_table.ipynb>data table notebook</a>'\n",
              "            + ' to learn more about interactive tables.';\n",
              "          element.innerHTML = '';\n",
              "          dataTable['output_type'] = 'display_data';\n",
              "          await google.colab.output.renderOutput(dataTable, element);\n",
              "          const docLink = document.createElement('div');\n",
              "          docLink.innerHTML = docLinkHtml;\n",
              "          element.appendChild(docLink);\n",
              "        }\n",
              "      </script>\n",
              "    </div>\n",
              "  </div>\n",
              "  "
            ]
          },
          "metadata": {},
          "execution_count": 148
        }
      ],
      "source": [
        "# lets also calculate Usefulness Score\n",
        "data['usefulness'] = data['rating']*data['usefulCount']*data['eff_score']\n",
        "\n",
        "# lets check the Top 10 Most Useful Drugs with their Respective Conditions\n",
        "data[['drugName','condition','usefulness']][data['usefulness'] > \n",
        "                            data['usefulness'].mean()].sort_values(by = 'usefulness', \n",
        "                                        ascending = False).head(10).reset_index(drop = True)"
      ]
    },
    {
      "cell_type": "markdown",
      "id": "7d311dd6",
      "metadata": {
        "papermill": {
          "duration": 0.013818,
          "end_time": "2022-05-26T22:32:24.180279",
          "exception": false,
          "start_time": "2022-05-26T22:32:24.166461",
          "status": "completed"
        },
        "tags": [],
        "id": "7d311dd6"
      },
      "source": [
        "### Analyzing the Medical Condtitions"
      ]
    },
    {
      "cell_type": "code",
      "execution_count": 149,
      "id": "adad7c25",
      "metadata": {
        "execution": {
          "iopub.execute_input": "2022-05-26T22:32:24.211283Z",
          "iopub.status.busy": "2022-05-26T22:32:24.210810Z",
          "iopub.status.idle": "2022-05-26T22:32:24.306122Z",
          "shell.execute_reply": "2022-05-26T22:32:24.304951Z"
        },
        "papermill": {
          "duration": 0.114427,
          "end_time": "2022-05-26T22:32:24.309560",
          "exception": false,
          "start_time": "2022-05-26T22:32:24.195133",
          "status": "completed"
        },
        "tags": [],
        "id": "adad7c25"
      },
      "outputs": [],
      "source": [
        "# lets calculate the Number of Useless and Useful Drugs for Each Condition\n",
        "\n",
        "def check(condition = list(data['condition'].value_counts().index)):\n",
        "    return data[data['condition'] == condition]['eff_score'].value_counts()"
      ]
    },
    {
      "cell_type": "code",
      "execution_count": 150,
      "id": "71637022",
      "metadata": {
        "execution": {
          "iopub.execute_input": "2022-05-26T22:32:24.341597Z",
          "iopub.status.busy": "2022-05-26T22:32:24.340659Z",
          "iopub.status.idle": "2022-05-26T22:32:26.800288Z",
          "shell.execute_reply": "2022-05-26T22:32:26.799321Z"
        },
        "papermill": {
          "duration": 2.477991,
          "end_time": "2022-05-26T22:32:26.803104",
          "exception": false,
          "start_time": "2022-05-26T22:32:24.325113",
          "status": "completed"
        },
        "tags": [],
        "id": "71637022",
        "colab": {
          "base_uri": "https://localhost:8080/",
          "height": 449
        },
        "outputId": "3fd97be8-5d3f-42b0-ddef-62a6821c6052"
      },
      "outputs": [
        {
          "output_type": "display_data",
          "data": {
            "text/plain": [
              "<Figure size 1080x288 with 1 Axes>"
            ],
            "image/png": "[encoded data removed]"
          },
          "metadata": {}
        }
      ],
      "source": [
        "# lets check this in Graph, \n",
        "\n",
        "popular_conditions = ('Birth Control','Depression','Pain','Anxiety','Acne','Bipolar Disorde','Insomnia','Weight Loss',\n",
        "                      'Obesity','ADHD', 'Diabetes, Type 2', 'Emergency Contraception', 'High Blood Pressure','Migrane')\n",
        "conditions = data.loc[data['condition'].isin(popular_conditions)]\n",
        "\n",
        "sns.barplot(x = conditions['condition'], y = conditions['rating'], hue = data['eff_score'])\n",
        "plt.title('Conditions vs Effective Number of Drugs')\n",
        "plt.xticks(rotation = 45)\n",
        "plt.ylabel(' ')\n",
        "plt.legend(loc='upper right')\n",
        "plt.show()"
      ]
    },
    {
      "cell_type": "code",
      "execution_count": 151,
      "id": "14beb52d",
      "metadata": {
        "execution": {
          "iopub.execute_input": "2022-05-26T22:32:26.835362Z",
          "iopub.status.busy": "2022-05-26T22:32:26.834934Z",
          "iopub.status.idle": "2022-05-26T22:32:26.876596Z",
          "shell.execute_reply": "2022-05-26T22:32:26.875042Z"
        },
        "papermill": {
          "duration": 0.060453,
          "end_time": "2022-05-26T22:32:26.879158",
          "exception": false,
          "start_time": "2022-05-26T22:32:26.818705",
          "status": "completed"
        },
        "tags": [],
        "id": "14beb52d",
        "colab": {
          "base_uri": "https://localhost:8080/"
        },
        "outputId": "38de93b4-bbf7-41e6-ad25-5e55b3c434cd"
      },
      "outputs": [
        {
          "output_type": "stream",
          "name": "stdout",
          "text": [
            "Number of Unique Conditions : 708\n"
          ]
        },
        {
          "output_type": "execute_result",
          "data": {
            "text/plain": [
              "Birth Control      9648\n",
              "Depression         3095\n",
              "Pain               2100\n",
              "Anxiety            1908\n",
              "Acne               1847\n",
              "Bipolar Disorde    1380\n",
              "Weight Loss        1248\n",
              "Insomnia           1231\n",
              "Obesity            1189\n",
              "ADHD               1126\n",
              "Name: condition, dtype: int64"
            ]
          },
          "metadata": {},
          "execution_count": 151
        }
      ],
      "source": [
        "# lets check the Most Common Conditions\n",
        "\n",
        "print(\"Number of Unique Conditions :\", data['condition'].nunique())\n",
        "data['condition'].value_counts().head(10)"
      ]
    },
    {
      "cell_type": "code",
      "execution_count": 152,
      "id": "8a43c089",
      "metadata": {
        "execution": {
          "iopub.execute_input": "2022-05-26T22:32:26.911815Z",
          "iopub.status.busy": "2022-05-26T22:32:26.911223Z",
          "iopub.status.idle": "2022-05-26T22:32:26.935346Z",
          "shell.execute_reply": "2022-05-26T22:32:26.934469Z"
        },
        "papermill": {
          "duration": 0.043347,
          "end_time": "2022-05-26T22:32:26.937688",
          "exception": false,
          "start_time": "2022-05-26T22:32:26.894341",
          "status": "completed"
        },
        "tags": [],
        "id": "8a43c089",
        "colab": {
          "base_uri": "https://localhost:8080/",
          "height": 359
        },
        "outputId": "fa7fb172-8e7f-425d-cd21-330a442efe7b"
      },
      "outputs": [
        {
          "output_type": "execute_result",
          "data": {
            "text/plain": [
              "       drugName  usefulCount\n",
              "0    Sertraline          949\n",
              "1  Etonogestrel          730\n",
              "2     OxyContin          695\n",
              "3     Oxycodone          695\n",
              "4    Sertraline          680\n",
              "5    Sertraline          644\n",
              "6      Cymbalta          621\n",
              "7     Buspirone          585\n",
              "8    Citalopram          559\n",
              "9    Vilazodone          513"
            ],
            "text/html": [
              "\n",
              "  <div id=\"df-5d27c827-047f-4585-9ea2-e84913c5577a\">\n",
              "    <div class=\"colab-df-container\">\n",
              "      <div>\n",
              "<style scoped>\n",
              "    .dataframe tbody tr th:only-of-type {\n",
              "        vertical-align: middle;\n",
              "    }\n",
              "\n",
              "    .dataframe tbody tr th {\n",
              "        vertical-align: top;\n",
              "    }\n",
              "\n",
              "    .dataframe thead th {\n",
              "        text-align: right;\n",
              "    }\n",
              "</style>\n",
              "<table border=\"1\" class=\"dataframe\">\n",
              "  <thead>\n",
              "    <tr style=\"text-align: right;\">\n",
              "      <th></th>\n",
              "      <th>drugName</th>\n",
              "      <th>usefulCount</th>\n",
              "    </tr>\n",
              "  </thead>\n",
              "  <tbody>\n",
              "    <tr>\n",
              "      <th>0</th>\n",
              "      <td>Sertraline</td>\n",
              "      <td>949</td>\n",
              "    </tr>\n",
              "    <tr>\n",
              "      <th>1</th>\n",
              "      <td>Etonogestrel</td>\n",
              "      <td>730</td>\n",
              "    </tr>\n",
              "    <tr>\n",
              "      <th>2</th>\n",
              "      <td>OxyContin</td>\n",
              "      <td>695</td>\n",
              "    </tr>\n",
              "    <tr>\n",
              "      <th>3</th>\n",
              "      <td>Oxycodone</td>\n",
              "      <td>695</td>\n",
              "    </tr>\n",
              "    <tr>\n",
              "      <th>4</th>\n",
              "      <td>Sertraline</td>\n",
              "      <td>680</td>\n",
              "    </tr>\n",
              "    <tr>\n",
              "      <th>5</th>\n",
              "      <td>Sertraline</td>\n",
              "      <td>644</td>\n",
              "    </tr>\n",
              "    <tr>\n",
              "      <th>6</th>\n",
              "      <td>Cymbalta</td>\n",
              "      <td>621</td>\n",
              "    </tr>\n",
              "    <tr>\n",
              "      <th>7</th>\n",
              "      <td>Buspirone</td>\n",
              "      <td>585</td>\n",
              "    </tr>\n",
              "    <tr>\n",
              "      <th>8</th>\n",
              "      <td>Citalopram</td>\n",
              "      <td>559</td>\n",
              "    </tr>\n",
              "    <tr>\n",
              "      <th>9</th>\n",
              "      <td>Vilazodone</td>\n",
              "      <td>513</td>\n",
              "    </tr>\n",
              "  </tbody>\n",
              "</table>\n",
              "</div>\n",
              "      <button class=\"colab-df-convert\" onclick=\"convertToInteractive('df-5d27c827-047f-4585-9ea2-e84913c5577a')\"\n",
              "              title=\"Convert this dataframe to an interactive table.\"\n",
              "              style=\"display:none;\">\n",
              "        \n",
              "  <svg xmlns=\"http://www.w3.org/2000/svg\" height=\"24px\"viewBox=\"0 0 24 24\"\n",
              "       width=\"24px\">\n",
              "    <path d=\"M0 0h24v24H0V0z\" fill=\"none\"/>\n",
              "    <path d=\"M18.56 5.44l.94 2.06.94-2.06 2.06-.94-2.06-.94-.94-2.06-.94 2.06-2.06.94zm-11 1L8.5 8.5l.94-2.06 2.06-.94-2.06-.94L8.5 2.5l-.94 2.06-2.06.94zm10 10l.94 2.06.94-2.06 2.06-.94-2.06-.94-.94-2.06-.94 2.06-2.06.94z\"/><path d=\"M17.41 7.96l-1.37-1.37c-.4-.4-.92-.59-1.43-.59-.52 0-1.04.2-1.43.59L10.3 9.45l-7.72 7.72c-.78.78-.78 2.05 0 2.83L4 21.41c.39.39.9.59 1.41.59.51 0 1.02-.2 1.41-.59l7.78-7.78 2.81-2.81c.8-.78.8-2.07 0-2.86zM5.41 20L4 18.59l7.72-7.72 1.47 1.35L5.41 20z\"/>\n",
              "  </svg>\n",
              "      </button>\n",
              "      \n",
              "  <style>\n",
              "    .colab-df-container {\n",
              "      display:flex;\n",
              "      flex-wrap:wrap;\n",
              "      gap: 12px;\n",
              "    }\n",
              "\n",
              "    .colab-df-convert {\n",
              "      background-color: #E8F0FE;\n",
              "      border: none;\n",
              "      border-radius: 50%;\n",
              "      cursor: pointer;\n",
              "      display: none;\n",
              "      fill: #1967D2;\n",
              "      height: 32px;\n",
              "      padding: 0 0 0 0;\n",
              "      width: 32px;\n",
              "    }\n",
              "\n",
              "    .colab-df-convert:hover {\n",
              "      background-color: #E2EBFA;\n",
              "      box-shadow: 0px 1px 2px rgba(60, 64, 67, 0.3), 0px 1px 3px 1px rgba(60, 64, 67, 0.15);\n",
              "      fill: #174EA6;\n",
              "    }\n",
              "\n",
              "    [theme=dark] .colab-df-convert {\n",
              "      background-color: #3B4455;\n",
              "      fill: #D2E3FC;\n",
              "    }\n",
              "\n",
              "    [theme=dark] .colab-df-convert:hover {\n",
              "      background-color: #434B5C;\n",
              "      box-shadow: 0px 1px 3px 1px rgba(0, 0, 0, 0.15);\n",
              "      filter: drop-shadow(0px 1px 2px rgba(0, 0, 0, 0.3));\n",
              "      fill: #FFFFFF;\n",
              "    }\n",
              "  </style>\n",
              "\n",
              "      <script>\n",
              "        const buttonEl =\n",
              "          document.querySelector('#df-5d27c827-047f-4585-9ea2-e84913c5577a button.colab-df-convert');\n",
              "        buttonEl.style.display =\n",
              "          google.colab.kernel.accessAllowed ? 'block' : 'none';\n",
              "\n",
              "        async function convertToInteractive(key) {\n",
              "          const element = document.querySelector('#df-5d27c827-047f-4585-9ea2-e84913c5577a');\n",
              "          const dataTable =\n",
              "            await google.colab.kernel.invokeFunction('convertToInteractive',\n",
              "                                                     [key], {});\n",
              "          if (!dataTable) return;\n",
              "\n",
              "          const docLinkHtml = 'Like what you see? Visit the ' +\n",
              "            '<a target=\"_blank\" href=https://colab.research.google.com/notebooks/data_table.ipynb>data table notebook</a>'\n",
              "            + ' to learn more about interactive tables.';\n",
              "          element.innerHTML = '';\n",
              "          dataTable['output_type'] = 'display_data';\n",
              "          await google.colab.output.renderOutput(dataTable, element);\n",
              "          const docLink = document.createElement('div');\n",
              "          docLink.innerHTML = docLinkHtml;\n",
              "          element.appendChild(docLink);\n",
              "        }\n",
              "      </script>\n",
              "    </div>\n",
              "  </div>\n",
              "  "
            ]
          },
          "metadata": {},
          "execution_count": 152
        }
      ],
      "source": [
        "# lets check Drugs, which were useful to Highest Number of Poeple\n",
        "data[['drugName','usefulCount']][data['usefulCount'] >\n",
        "                    data['usefulCount'].mean()].sort_values(by = 'usefulCount',\n",
        "                                        ascending = False).head(10).reset_index(drop = True)"
      ]
    },
    {
      "cell_type": "markdown",
      "id": "296833ae",
      "metadata": {
        "papermill": {
          "duration": 0.016528,
          "end_time": "2022-05-26T22:32:26.969706",
          "exception": false,
          "start_time": "2022-05-26T22:32:26.953178",
          "status": "completed"
        },
        "tags": [],
        "id": "296833ae"
      },
      "source": [
        "### Finding Most Useful and Useless Drugs for each Condition"
      ]
    },
    {
      "cell_type": "code",
      "source": [
        "# lets remove all the Duplicates from the Dataset\n",
        "data = data.drop_duplicates()"
      ],
      "metadata": {
        "id": "7yz3KGVZXY8P"
      },
      "id": "7yz3KGVZXY8P",
      "execution_count": 159,
      "outputs": []
    },
    {
      "cell_type": "code",
      "source": [
        "data.shape"
      ],
      "metadata": {
        "colab": {
          "base_uri": "https://localhost:8080/"
        },
        "id": "42CO4tP3-4q1",
        "outputId": "b309043c-9065-4941-9ca0-5238533da6cf"
      },
      "id": "42CO4tP3-4q1",
      "execution_count": 160,
      "outputs": [
        {
          "output_type": "execute_result",
          "data": {
            "text/plain": [
              "(43874, 6)"
            ]
          },
          "metadata": {},
          "execution_count": 160
        }
      ]
    },
    {
      "cell_type": "code",
      "execution_count": 161,
      "id": "f1e36500",
      "metadata": {
        "execution": {
          "iopub.execute_input": "2022-05-26T22:32:27.099746Z",
          "iopub.status.busy": "2022-05-26T22:32:27.099274Z",
          "iopub.status.idle": "2022-05-26T22:32:27.203543Z",
          "shell.execute_reply": "2022-05-26T22:32:27.202756Z"
        },
        "papermill": {
          "duration": 0.126483,
          "end_time": "2022-05-26T22:32:27.207837",
          "exception": false,
          "start_time": "2022-05-26T22:32:27.081354",
          "status": "completed"
        },
        "tags": [],
        "id": "f1e36500"
      },
      "outputs": [],
      "source": [
        "# lets find the Highest and Lowest Rated Drugs for each Condition\n",
        "\n",
        "def high_low_rate(condition = list(data['condition'].value_counts().index)):\n",
        "    print(\"\\n Top 5 Drugs\")\n",
        "    print(data[data['condition'] == condition][['drugName','usefulness']].sort_values(by = 'usefulness',\n",
        "                                                 ascending = False).head().reset_index(drop = True))\n",
        "    print(\"\\n\\n Bottom 5 Drugs\")\n",
        "    print(data[data['condition'] == condition][['drugName','usefulness']].sort_values(by = 'usefulness',\n",
        "                                                 ascending = True).head().reset_index(drop = True))"
      ]
    }
  ],
  "metadata": {
    "kernelspec": {
      "display_name": "Python 3",
      "language": "python",
      "name": "python3"
    },
    "language_info": {
      "codemirror_mode": {
        "name": "ipython",
        "version": 3
      },
      "file_extension": ".py",
      "mimetype": "text/x-python",
      "name": "python",
      "nbconvert_exporter": "python",
      "pygments_lexer": "ipython3",
      "version": "3.7.12"
    },
    "papermill": {
      "default_parameters": {},
      "duration": 282.369071,
      "end_time": "2022-05-26T22:32:28.149229",
      "environment_variables": {},
      "exception": null,
      "input_path": "__notebook__.ipynb",
      "output_path": "__notebook__.ipynb",
      "parameters": {},
      "start_time": "2022-05-26T22:27:45.780158",
      "version": "2.3.4"
    },
    "colab": {
      "provenance": []
    }
  },
  "nbformat": 4,
  "nbformat_minor": 5
}